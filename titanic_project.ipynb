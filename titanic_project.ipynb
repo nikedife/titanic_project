{
 "cells": [
  {
   "cell_type": "markdown",
   "id": "26555b34",
   "metadata": {},
   "source": [
    "# Titanic Project\n",
    "# Problem Statement:\n",
    "# The Titanic Problem is based on the sinking of the ‘Unsinkable’ ship Titanic in early 1912. It gives you information about multiple people like their ages, sexes, sibling counts, embarkment points, and whether or not they survived the disaster. Based on these features, you have to predict if an arbitrary passenger on Titanic would survive the sinking or not. \n",
    "\n"
   ]
  },
  {
   "cell_type": "markdown",
   "id": "526ff163",
   "metadata": {},
   "source": [
    "# Lets import our librarires for data manipulation,wrangling and visualisation"
   ]
  },
  {
   "cell_type": "code",
   "execution_count": 1,
   "id": "7c91eaec",
   "metadata": {},
   "outputs": [],
   "source": [
    "import pandas as pd\n",
    "import numpy as np\n",
    "import seaborn as sns\n",
    "import matplotlib.pyplot as plt\n",
    "%matplotlib inline"
   ]
  },
  {
   "cell_type": "code",
   "execution_count": 2,
   "id": "24749f96",
   "metadata": {},
   "outputs": [
    {
     "data": {
      "text/html": [
       "<div>\n",
       "<style scoped>\n",
       "    .dataframe tbody tr th:only-of-type {\n",
       "        vertical-align: middle;\n",
       "    }\n",
       "\n",
       "    .dataframe tbody tr th {\n",
       "        vertical-align: top;\n",
       "    }\n",
       "\n",
       "    .dataframe thead th {\n",
       "        text-align: right;\n",
       "    }\n",
       "</style>\n",
       "<table border=\"1\" class=\"dataframe\">\n",
       "  <thead>\n",
       "    <tr style=\"text-align: right;\">\n",
       "      <th></th>\n",
       "      <th>PassengerId</th>\n",
       "      <th>Survived</th>\n",
       "      <th>Pclass</th>\n",
       "      <th>Name</th>\n",
       "      <th>Sex</th>\n",
       "      <th>Age</th>\n",
       "      <th>SibSp</th>\n",
       "      <th>Parch</th>\n",
       "      <th>Ticket</th>\n",
       "      <th>Fare</th>\n",
       "      <th>Cabin</th>\n",
       "      <th>Embarked</th>\n",
       "    </tr>\n",
       "  </thead>\n",
       "  <tbody>\n",
       "    <tr>\n",
       "      <th>0</th>\n",
       "      <td>1</td>\n",
       "      <td>0</td>\n",
       "      <td>3</td>\n",
       "      <td>Braund, Mr. Owen Harris</td>\n",
       "      <td>male</td>\n",
       "      <td>22.0</td>\n",
       "      <td>1</td>\n",
       "      <td>0</td>\n",
       "      <td>A/5 21171</td>\n",
       "      <td>7.2500</td>\n",
       "      <td>NaN</td>\n",
       "      <td>S</td>\n",
       "    </tr>\n",
       "    <tr>\n",
       "      <th>1</th>\n",
       "      <td>2</td>\n",
       "      <td>1</td>\n",
       "      <td>1</td>\n",
       "      <td>Cumings, Mrs. John Bradley (Florence Briggs Th...</td>\n",
       "      <td>female</td>\n",
       "      <td>38.0</td>\n",
       "      <td>1</td>\n",
       "      <td>0</td>\n",
       "      <td>PC 17599</td>\n",
       "      <td>71.2833</td>\n",
       "      <td>C85</td>\n",
       "      <td>C</td>\n",
       "    </tr>\n",
       "    <tr>\n",
       "      <th>2</th>\n",
       "      <td>3</td>\n",
       "      <td>1</td>\n",
       "      <td>3</td>\n",
       "      <td>Heikkinen, Miss. Laina</td>\n",
       "      <td>female</td>\n",
       "      <td>26.0</td>\n",
       "      <td>0</td>\n",
       "      <td>0</td>\n",
       "      <td>STON/O2. 3101282</td>\n",
       "      <td>7.9250</td>\n",
       "      <td>NaN</td>\n",
       "      <td>S</td>\n",
       "    </tr>\n",
       "    <tr>\n",
       "      <th>3</th>\n",
       "      <td>4</td>\n",
       "      <td>1</td>\n",
       "      <td>1</td>\n",
       "      <td>Futrelle, Mrs. Jacques Heath (Lily May Peel)</td>\n",
       "      <td>female</td>\n",
       "      <td>35.0</td>\n",
       "      <td>1</td>\n",
       "      <td>0</td>\n",
       "      <td>113803</td>\n",
       "      <td>53.1000</td>\n",
       "      <td>C123</td>\n",
       "      <td>S</td>\n",
       "    </tr>\n",
       "    <tr>\n",
       "      <th>4</th>\n",
       "      <td>5</td>\n",
       "      <td>0</td>\n",
       "      <td>3</td>\n",
       "      <td>Allen, Mr. William Henry</td>\n",
       "      <td>male</td>\n",
       "      <td>35.0</td>\n",
       "      <td>0</td>\n",
       "      <td>0</td>\n",
       "      <td>373450</td>\n",
       "      <td>8.0500</td>\n",
       "      <td>NaN</td>\n",
       "      <td>S</td>\n",
       "    </tr>\n",
       "  </tbody>\n",
       "</table>\n",
       "</div>"
      ],
      "text/plain": [
       "   PassengerId  Survived  Pclass  \\\n",
       "0            1         0       3   \n",
       "1            2         1       1   \n",
       "2            3         1       3   \n",
       "3            4         1       1   \n",
       "4            5         0       3   \n",
       "\n",
       "                                                Name     Sex   Age  SibSp  \\\n",
       "0                            Braund, Mr. Owen Harris    male  22.0      1   \n",
       "1  Cumings, Mrs. John Bradley (Florence Briggs Th...  female  38.0      1   \n",
       "2                             Heikkinen, Miss. Laina  female  26.0      0   \n",
       "3       Futrelle, Mrs. Jacques Heath (Lily May Peel)  female  35.0      1   \n",
       "4                           Allen, Mr. William Henry    male  35.0      0   \n",
       "\n",
       "   Parch            Ticket     Fare Cabin Embarked  \n",
       "0      0         A/5 21171   7.2500   NaN        S  \n",
       "1      0          PC 17599  71.2833   C85        C  \n",
       "2      0  STON/O2. 3101282   7.9250   NaN        S  \n",
       "3      0            113803  53.1000  C123        S  \n",
       "4      0            373450   8.0500   NaN        S  "
      ]
     },
     "execution_count": 2,
     "metadata": {},
     "output_type": "execute_result"
    }
   ],
   "source": [
    "df = pd.read_csv(\"https://raw.githubusercontent.com/dsrscientist/dataset1/master/titanic_train.csv\")\n",
    "df.head()"
   ]
  },
  {
   "cell_type": "markdown",
   "id": "ee3001bf",
   "metadata": {},
   "source": [
    "# Exploratory data analysis"
   ]
  },
  {
   "cell_type": "markdown",
   "id": "a4cffc3a",
   "metadata": {},
   "source": [
    "# Lets dive deep into the data and make some analysis"
   ]
  },
  {
   "cell_type": "code",
   "execution_count": 3,
   "id": "b2f8dc18",
   "metadata": {},
   "outputs": [
    {
     "data": {
      "text/plain": [
       "Index(['PassengerId', 'Survived', 'Pclass', 'Name', 'Sex', 'Age', 'SibSp',\n",
       "       'Parch', 'Ticket', 'Fare', 'Cabin', 'Embarked'],\n",
       "      dtype='object')"
      ]
     },
     "execution_count": 3,
     "metadata": {},
     "output_type": "execute_result"
    }
   ],
   "source": [
    "# Lets check the number features and label\n",
    "df.columns"
   ]
  },
  {
   "cell_type": "code",
   "execution_count": 4,
   "id": "2012d0dd",
   "metadata": {},
   "outputs": [
    {
     "data": {
      "text/plain": [
       "(891, 12)"
      ]
     },
     "execution_count": 4,
     "metadata": {},
     "output_type": "execute_result"
    }
   ],
   "source": [
    "# Lets count the number of records\n",
    "# As you can see we have 891 records and 12 columns representing the features and label\n",
    "df.shape"
   ]
  },
  {
   "cell_type": "code",
   "execution_count": 5,
   "id": "dd39a17f",
   "metadata": {},
   "outputs": [
    {
     "data": {
      "text/html": [
       "<div>\n",
       "<style scoped>\n",
       "    .dataframe tbody tr th:only-of-type {\n",
       "        vertical-align: middle;\n",
       "    }\n",
       "\n",
       "    .dataframe tbody tr th {\n",
       "        vertical-align: top;\n",
       "    }\n",
       "\n",
       "    .dataframe thead th {\n",
       "        text-align: right;\n",
       "    }\n",
       "</style>\n",
       "<table border=\"1\" class=\"dataframe\">\n",
       "  <thead>\n",
       "    <tr style=\"text-align: right;\">\n",
       "      <th></th>\n",
       "      <th>PassengerId</th>\n",
       "      <th>Survived</th>\n",
       "      <th>Pclass</th>\n",
       "      <th>Age</th>\n",
       "      <th>SibSp</th>\n",
       "      <th>Parch</th>\n",
       "      <th>Fare</th>\n",
       "    </tr>\n",
       "  </thead>\n",
       "  <tbody>\n",
       "    <tr>\n",
       "      <th>count</th>\n",
       "      <td>891.000000</td>\n",
       "      <td>891.000000</td>\n",
       "      <td>891.000000</td>\n",
       "      <td>714.000000</td>\n",
       "      <td>891.000000</td>\n",
       "      <td>891.000000</td>\n",
       "      <td>891.000000</td>\n",
       "    </tr>\n",
       "    <tr>\n",
       "      <th>mean</th>\n",
       "      <td>446.000000</td>\n",
       "      <td>0.383838</td>\n",
       "      <td>2.308642</td>\n",
       "      <td>29.699118</td>\n",
       "      <td>0.523008</td>\n",
       "      <td>0.381594</td>\n",
       "      <td>32.204208</td>\n",
       "    </tr>\n",
       "    <tr>\n",
       "      <th>std</th>\n",
       "      <td>257.353842</td>\n",
       "      <td>0.486592</td>\n",
       "      <td>0.836071</td>\n",
       "      <td>14.526497</td>\n",
       "      <td>1.102743</td>\n",
       "      <td>0.806057</td>\n",
       "      <td>49.693429</td>\n",
       "    </tr>\n",
       "    <tr>\n",
       "      <th>min</th>\n",
       "      <td>1.000000</td>\n",
       "      <td>0.000000</td>\n",
       "      <td>1.000000</td>\n",
       "      <td>0.420000</td>\n",
       "      <td>0.000000</td>\n",
       "      <td>0.000000</td>\n",
       "      <td>0.000000</td>\n",
       "    </tr>\n",
       "    <tr>\n",
       "      <th>25%</th>\n",
       "      <td>223.500000</td>\n",
       "      <td>0.000000</td>\n",
       "      <td>2.000000</td>\n",
       "      <td>20.125000</td>\n",
       "      <td>0.000000</td>\n",
       "      <td>0.000000</td>\n",
       "      <td>7.910400</td>\n",
       "    </tr>\n",
       "    <tr>\n",
       "      <th>50%</th>\n",
       "      <td>446.000000</td>\n",
       "      <td>0.000000</td>\n",
       "      <td>3.000000</td>\n",
       "      <td>28.000000</td>\n",
       "      <td>0.000000</td>\n",
       "      <td>0.000000</td>\n",
       "      <td>14.454200</td>\n",
       "    </tr>\n",
       "    <tr>\n",
       "      <th>75%</th>\n",
       "      <td>668.500000</td>\n",
       "      <td>1.000000</td>\n",
       "      <td>3.000000</td>\n",
       "      <td>38.000000</td>\n",
       "      <td>1.000000</td>\n",
       "      <td>0.000000</td>\n",
       "      <td>31.000000</td>\n",
       "    </tr>\n",
       "    <tr>\n",
       "      <th>max</th>\n",
       "      <td>891.000000</td>\n",
       "      <td>1.000000</td>\n",
       "      <td>3.000000</td>\n",
       "      <td>80.000000</td>\n",
       "      <td>8.000000</td>\n",
       "      <td>6.000000</td>\n",
       "      <td>512.329200</td>\n",
       "    </tr>\n",
       "  </tbody>\n",
       "</table>\n",
       "</div>"
      ],
      "text/plain": [
       "       PassengerId    Survived      Pclass         Age       SibSp  \\\n",
       "count   891.000000  891.000000  891.000000  714.000000  891.000000   \n",
       "mean    446.000000    0.383838    2.308642   29.699118    0.523008   \n",
       "std     257.353842    0.486592    0.836071   14.526497    1.102743   \n",
       "min       1.000000    0.000000    1.000000    0.420000    0.000000   \n",
       "25%     223.500000    0.000000    2.000000   20.125000    0.000000   \n",
       "50%     446.000000    0.000000    3.000000   28.000000    0.000000   \n",
       "75%     668.500000    1.000000    3.000000   38.000000    1.000000   \n",
       "max     891.000000    1.000000    3.000000   80.000000    8.000000   \n",
       "\n",
       "            Parch        Fare  \n",
       "count  891.000000  891.000000  \n",
       "mean     0.381594   32.204208  \n",
       "std      0.806057   49.693429  \n",
       "min      0.000000    0.000000  \n",
       "25%      0.000000    7.910400  \n",
       "50%      0.000000   14.454200  \n",
       "75%      0.000000   31.000000  \n",
       "max      6.000000  512.329200  "
      ]
     },
     "execution_count": 5,
     "metadata": {},
     "output_type": "execute_result"
    }
   ],
   "source": [
    "# Lets check the statistics of the dataset\n",
    "df.describe()"
   ]
  },
  {
   "cell_type": "code",
   "execution_count": 6,
   "id": "eac93814",
   "metadata": {},
   "outputs": [
    {
     "name": "stdout",
     "output_type": "stream",
     "text": [
      "<class 'pandas.core.frame.DataFrame'>\n",
      "RangeIndex: 891 entries, 0 to 890\n",
      "Data columns (total 12 columns):\n",
      " #   Column       Non-Null Count  Dtype  \n",
      "---  ------       --------------  -----  \n",
      " 0   PassengerId  891 non-null    int64  \n",
      " 1   Survived     891 non-null    int64  \n",
      " 2   Pclass       891 non-null    int64  \n",
      " 3   Name         891 non-null    object \n",
      " 4   Sex          891 non-null    object \n",
      " 5   Age          714 non-null    float64\n",
      " 6   SibSp        891 non-null    int64  \n",
      " 7   Parch        891 non-null    int64  \n",
      " 8   Ticket       891 non-null    object \n",
      " 9   Fare         891 non-null    float64\n",
      " 10  Cabin        204 non-null    object \n",
      " 11  Embarked     889 non-null    object \n",
      "dtypes: float64(2), int64(5), object(5)\n",
      "memory usage: 83.7+ KB\n"
     ]
    }
   ],
   "source": [
    "# Lets check the data types and a snap shot of how the data looks like\n",
    "df.info()"
   ]
  },
  {
   "cell_type": "code",
   "execution_count": 7,
   "id": "da4d820e",
   "metadata": {},
   "outputs": [
    {
     "data": {
      "text/plain": [
       "PassengerId      0\n",
       "Survived         0\n",
       "Pclass           0\n",
       "Name             0\n",
       "Sex              0\n",
       "Age            177\n",
       "SibSp            0\n",
       "Parch            0\n",
       "Ticket           0\n",
       "Fare             0\n",
       "Cabin          687\n",
       "Embarked         2\n",
       "dtype: int64"
      ]
     },
     "execution_count": 7,
     "metadata": {},
     "output_type": "execute_result"
    }
   ],
   "source": [
    "# Lets check for null values so that we can proceed with data cleaning\n",
    "# From the summary we have 177 null values in the age column,2 null values in the embarked column and 687 null values in the cabin column\n",
    "\n",
    "df.isnull().sum()"
   ]
  },
  {
   "cell_type": "code",
   "execution_count": 8,
   "id": "c4f9ed44",
   "metadata": {},
   "outputs": [],
   "source": [
    "# Lets deal with the null values in the age column\n",
    "# Lets replace the null value with the mean of the age\n",
    "\n",
    "df['Age'] = df['Age'].fillna(df['Age'].mean())\n",
    "\n",
    "\n"
   ]
  },
  {
   "cell_type": "code",
   "execution_count": 9,
   "id": "289334c6",
   "metadata": {},
   "outputs": [
    {
     "data": {
      "text/plain": [
       "PassengerId      0\n",
       "Survived         0\n",
       "Pclass           0\n",
       "Name             0\n",
       "Sex              0\n",
       "Age              0\n",
       "SibSp            0\n",
       "Parch            0\n",
       "Ticket           0\n",
       "Fare             0\n",
       "Cabin          687\n",
       "Embarked         2\n",
       "dtype: int64"
      ]
     },
     "execution_count": 9,
     "metadata": {},
     "output_type": "execute_result"
    }
   ],
   "source": [
    "# As you can see we have taken care of the null values in the age column.\n",
    "# Now lets deal with the column in the cabin column\n",
    "df.isnull().sum()"
   ]
  },
  {
   "cell_type": "code",
   "execution_count": 10,
   "id": "99358c46",
   "metadata": {},
   "outputs": [],
   "source": [
    "# Since the cabin is a categorical data we will fill the null values with the mode of the column\n",
    "\n",
    "df['Cabin'] = df['Cabin'].fillna(df['Cabin'].mode()[0])"
   ]
  },
  {
   "cell_type": "code",
   "execution_count": 11,
   "id": "7ada153e",
   "metadata": {},
   "outputs": [
    {
     "data": {
      "text/plain": [
       "PassengerId    0\n",
       "Survived       0\n",
       "Pclass         0\n",
       "Name           0\n",
       "Sex            0\n",
       "Age            0\n",
       "SibSp          0\n",
       "Parch          0\n",
       "Ticket         0\n",
       "Fare           0\n",
       "Cabin          0\n",
       "Embarked       2\n",
       "dtype: int64"
      ]
     },
     "execution_count": 11,
     "metadata": {},
     "output_type": "execute_result"
    }
   ],
   "source": [
    "# As you can see we have dealt with the null values in the cabin column but we have two more null values in the embarked column\n",
    "df.isnull().sum()"
   ]
  },
  {
   "cell_type": "code",
   "execution_count": 12,
   "id": "97666561",
   "metadata": {},
   "outputs": [
    {
     "data": {
      "text/plain": [
       "0      S\n",
       "1      C\n",
       "2      S\n",
       "3      S\n",
       "4      S\n",
       "      ..\n",
       "886    S\n",
       "887    S\n",
       "888    S\n",
       "889    C\n",
       "890    Q\n",
       "Name: Embarked, Length: 891, dtype: object"
      ]
     },
     "execution_count": 12,
     "metadata": {},
     "output_type": "execute_result"
    }
   ],
   "source": [
    "# Lets replace the null values with the mode since its a categorical data\n",
    "df.Embarked"
   ]
  },
  {
   "cell_type": "code",
   "execution_count": 13,
   "id": "725395a0",
   "metadata": {},
   "outputs": [],
   "source": [
    "df['Embarked'] = df['Embarked'].fillna(df['Embarked'].mode()[0])"
   ]
  },
  {
   "cell_type": "code",
   "execution_count": 14,
   "id": "a9dd9195",
   "metadata": {},
   "outputs": [
    {
     "data": {
      "text/plain": [
       "PassengerId    0\n",
       "Survived       0\n",
       "Pclass         0\n",
       "Name           0\n",
       "Sex            0\n",
       "Age            0\n",
       "SibSp          0\n",
       "Parch          0\n",
       "Ticket         0\n",
       "Fare           0\n",
       "Cabin          0\n",
       "Embarked       0\n",
       "dtype: int64"
      ]
     },
     "execution_count": 14,
     "metadata": {},
     "output_type": "execute_result"
    }
   ],
   "source": [
    "# we have dealt with all the null values in this dataset and its good to go for further analysis.\n",
    "\n",
    "\n",
    "df.isnull().sum()"
   ]
  },
  {
   "cell_type": "code",
   "execution_count": 15,
   "id": "e7c0c4c6",
   "metadata": {},
   "outputs": [
    {
     "data": {
      "text/html": [
       "<div>\n",
       "<style scoped>\n",
       "    .dataframe tbody tr th:only-of-type {\n",
       "        vertical-align: middle;\n",
       "    }\n",
       "\n",
       "    .dataframe tbody tr th {\n",
       "        vertical-align: top;\n",
       "    }\n",
       "\n",
       "    .dataframe thead th {\n",
       "        text-align: right;\n",
       "    }\n",
       "</style>\n",
       "<table border=\"1\" class=\"dataframe\">\n",
       "  <thead>\n",
       "    <tr style=\"text-align: right;\">\n",
       "      <th></th>\n",
       "      <th>PassengerId</th>\n",
       "      <th>Survived</th>\n",
       "      <th>Pclass</th>\n",
       "      <th>Age</th>\n",
       "      <th>SibSp</th>\n",
       "      <th>Parch</th>\n",
       "      <th>Fare</th>\n",
       "    </tr>\n",
       "  </thead>\n",
       "  <tbody>\n",
       "    <tr>\n",
       "      <th>count</th>\n",
       "      <td>891.000000</td>\n",
       "      <td>891.000000</td>\n",
       "      <td>891.000000</td>\n",
       "      <td>891.000000</td>\n",
       "      <td>891.000000</td>\n",
       "      <td>891.000000</td>\n",
       "      <td>891.000000</td>\n",
       "    </tr>\n",
       "    <tr>\n",
       "      <th>mean</th>\n",
       "      <td>446.000000</td>\n",
       "      <td>0.383838</td>\n",
       "      <td>2.308642</td>\n",
       "      <td>29.699118</td>\n",
       "      <td>0.523008</td>\n",
       "      <td>0.381594</td>\n",
       "      <td>32.204208</td>\n",
       "    </tr>\n",
       "    <tr>\n",
       "      <th>std</th>\n",
       "      <td>257.353842</td>\n",
       "      <td>0.486592</td>\n",
       "      <td>0.836071</td>\n",
       "      <td>13.002015</td>\n",
       "      <td>1.102743</td>\n",
       "      <td>0.806057</td>\n",
       "      <td>49.693429</td>\n",
       "    </tr>\n",
       "    <tr>\n",
       "      <th>min</th>\n",
       "      <td>1.000000</td>\n",
       "      <td>0.000000</td>\n",
       "      <td>1.000000</td>\n",
       "      <td>0.420000</td>\n",
       "      <td>0.000000</td>\n",
       "      <td>0.000000</td>\n",
       "      <td>0.000000</td>\n",
       "    </tr>\n",
       "    <tr>\n",
       "      <th>25%</th>\n",
       "      <td>223.500000</td>\n",
       "      <td>0.000000</td>\n",
       "      <td>2.000000</td>\n",
       "      <td>22.000000</td>\n",
       "      <td>0.000000</td>\n",
       "      <td>0.000000</td>\n",
       "      <td>7.910400</td>\n",
       "    </tr>\n",
       "    <tr>\n",
       "      <th>50%</th>\n",
       "      <td>446.000000</td>\n",
       "      <td>0.000000</td>\n",
       "      <td>3.000000</td>\n",
       "      <td>29.699118</td>\n",
       "      <td>0.000000</td>\n",
       "      <td>0.000000</td>\n",
       "      <td>14.454200</td>\n",
       "    </tr>\n",
       "    <tr>\n",
       "      <th>75%</th>\n",
       "      <td>668.500000</td>\n",
       "      <td>1.000000</td>\n",
       "      <td>3.000000</td>\n",
       "      <td>35.000000</td>\n",
       "      <td>1.000000</td>\n",
       "      <td>0.000000</td>\n",
       "      <td>31.000000</td>\n",
       "    </tr>\n",
       "    <tr>\n",
       "      <th>max</th>\n",
       "      <td>891.000000</td>\n",
       "      <td>1.000000</td>\n",
       "      <td>3.000000</td>\n",
       "      <td>80.000000</td>\n",
       "      <td>8.000000</td>\n",
       "      <td>6.000000</td>\n",
       "      <td>512.329200</td>\n",
       "    </tr>\n",
       "  </tbody>\n",
       "</table>\n",
       "</div>"
      ],
      "text/plain": [
       "       PassengerId    Survived      Pclass         Age       SibSp  \\\n",
       "count   891.000000  891.000000  891.000000  891.000000  891.000000   \n",
       "mean    446.000000    0.383838    2.308642   29.699118    0.523008   \n",
       "std     257.353842    0.486592    0.836071   13.002015    1.102743   \n",
       "min       1.000000    0.000000    1.000000    0.420000    0.000000   \n",
       "25%     223.500000    0.000000    2.000000   22.000000    0.000000   \n",
       "50%     446.000000    0.000000    3.000000   29.699118    0.000000   \n",
       "75%     668.500000    1.000000    3.000000   35.000000    1.000000   \n",
       "max     891.000000    1.000000    3.000000   80.000000    8.000000   \n",
       "\n",
       "            Parch        Fare  \n",
       "count  891.000000  891.000000  \n",
       "mean     0.381594   32.204208  \n",
       "std      0.806057   49.693429  \n",
       "min      0.000000    0.000000  \n",
       "25%      0.000000    7.910400  \n",
       "50%      0.000000   14.454200  \n",
       "75%      0.000000   31.000000  \n",
       "max      6.000000  512.329200  "
      ]
     },
     "execution_count": 15,
     "metadata": {},
     "output_type": "execute_result"
    }
   ],
   "source": [
    "# if you look at the count row you will see that accross the columns the data count is 891,which means that all our null values has been dealt with.\n",
    "df.describe()"
   ]
  },
  {
   "cell_type": "code",
   "execution_count": 16,
   "id": "1a802602",
   "metadata": {},
   "outputs": [
    {
     "data": {
      "text/plain": [
       "Index(['PassengerId', 'Survived', 'Pclass', 'Name', 'Sex', 'Age', 'SibSp',\n",
       "       'Parch', 'Ticket', 'Fare', 'Cabin', 'Embarked'],\n",
       "      dtype='object')"
      ]
     },
     "execution_count": 16,
     "metadata": {},
     "output_type": "execute_result"
    }
   ],
   "source": [
    "df.columns"
   ]
  },
  {
   "cell_type": "code",
   "execution_count": 17,
   "id": "17290491",
   "metadata": {},
   "outputs": [],
   "source": [
    "# Looking at this data we know that passenger id,ticket,nanme are not important inputs in determining the output of the target label\n",
    "# we will have to drop these columns\n",
    "\n",
    "df = df.drop(['PassengerId','Name','Ticket'],axis=1)\n"
   ]
  },
  {
   "cell_type": "code",
   "execution_count": 18,
   "id": "e073d93e",
   "metadata": {},
   "outputs": [
    {
     "data": {
      "text/plain": [
       "Index(['Survived', 'Pclass', 'Sex', 'Age', 'SibSp', 'Parch', 'Fare', 'Cabin',\n",
       "       'Embarked'],\n",
       "      dtype='object')"
      ]
     },
     "execution_count": 18,
     "metadata": {},
     "output_type": "execute_result"
    }
   ],
   "source": [
    "df.columns"
   ]
  },
  {
   "cell_type": "code",
   "execution_count": 19,
   "id": "70a4cb99",
   "metadata": {},
   "outputs": [
    {
     "name": "stderr",
     "output_type": "stream",
     "text": [
      "C:\\Users\\SONY\\anaconda3\\lib\\site-packages\\seaborn\\_decorators.py:36: FutureWarning: Pass the following variable as a keyword arg: x. From version 0.12, the only valid positional argument will be `data`, and passing other arguments without an explicit keyword will result in an error or misinterpretation.\n",
      "  warnings.warn(\n"
     ]
    },
    {
     "data": {
      "text/plain": [
       "<AxesSubplot:xlabel='Survived', ylabel='count'>"
      ]
     },
     "execution_count": 19,
     "metadata": {},
     "output_type": "execute_result"
    },
    {
     "data": {
      "image/png": "[encoded data removed]",
      "text/plain": [
       "<Figure size 720x720 with 1 Axes>"
      ]
     },
     "metadata": {
      "needs_background": "light"
     },
     "output_type": "display_data"
    }
   ],
   "source": [
    "# Lets do a univariate analysis of the survived column by plotiing some visualisations\n",
    "# From the visualisation we have more people that died than those that survived.we will have to dive deep into the data to find out the break down of those that survived and those that didnt.\n",
    "\n",
    "plt.figure(figsize=(10,10))\n",
    "\n",
    "sns.countplot(df['Survived'],data=df)"
   ]
  },
  {
   "cell_type": "code",
   "execution_count": 20,
   "id": "3fac716f",
   "metadata": {},
   "outputs": [
    {
     "data": {
      "text/plain": [
       "891"
      ]
     },
     "execution_count": 20,
     "metadata": {},
     "output_type": "execute_result"
    }
   ],
   "source": [
    "df.Survived.sort_values().count()"
   ]
  },
  {
   "cell_type": "code",
   "execution_count": 21,
   "id": "3f64445a",
   "metadata": {},
   "outputs": [
    {
     "name": "stdout",
     "output_type": "stream",
     "text": [
      "<pandas.core.groupby.generic.SeriesGroupBy object at 0x000002994593E160>\n"
     ]
    }
   ],
   "source": [
    "df_group = df.Survived.groupby(df['Sex'])\n",
    "print(df_group)"
   ]
  },
  {
   "cell_type": "code",
   "execution_count": 22,
   "id": "b2965e2f",
   "metadata": {},
   "outputs": [
    {
     "name": "stdout",
     "output_type": "stream",
     "text": [
      "<class 'pandas.core.frame.DataFrame'>\n",
      "RangeIndex: 891 entries, 0 to 890\n",
      "Data columns (total 9 columns):\n",
      " #   Column    Non-Null Count  Dtype  \n",
      "---  ------    --------------  -----  \n",
      " 0   Survived  891 non-null    int64  \n",
      " 1   Pclass    891 non-null    int64  \n",
      " 2   Sex       891 non-null    object \n",
      " 3   Age       891 non-null    float64\n",
      " 4   SibSp     891 non-null    int64  \n",
      " 5   Parch     891 non-null    int64  \n",
      " 6   Fare      891 non-null    float64\n",
      " 7   Cabin     891 non-null    object \n",
      " 8   Embarked  891 non-null    object \n",
      "dtypes: float64(2), int64(4), object(3)\n",
      "memory usage: 62.8+ KB\n"
     ]
    }
   ],
   "source": [
    "# we have three categorical columns cabin,embarked and sex.\n",
    "# we will have to perform label encoding\n",
    "df.info()"
   ]
  },
  {
   "cell_type": "code",
   "execution_count": 23,
   "id": "973059d3",
   "metadata": {},
   "outputs": [],
   "source": [
    "# Let perform label encoding to encode the categorical data\n",
    "from sklearn.preprocessing import LabelEncoder\n",
    "\n",
    "encode = LabelEncoder()\n",
    "df['Sex'] = encode.fit_transform(df['Sex'])\n",
    "df['Cabin'] = encode.fit_transform(df['Cabin'])\n",
    "df['Embarked'] = encode.fit_transform(df['Embarked'])"
   ]
  },
  {
   "cell_type": "code",
   "execution_count": 24,
   "id": "95a63321",
   "metadata": {},
   "outputs": [
    {
     "name": "stdout",
     "output_type": "stream",
     "text": [
      "<class 'pandas.core.frame.DataFrame'>\n",
      "RangeIndex: 891 entries, 0 to 890\n",
      "Data columns (total 9 columns):\n",
      " #   Column    Non-Null Count  Dtype  \n",
      "---  ------    --------------  -----  \n",
      " 0   Survived  891 non-null    int64  \n",
      " 1   Pclass    891 non-null    int64  \n",
      " 2   Sex       891 non-null    int32  \n",
      " 3   Age       891 non-null    float64\n",
      " 4   SibSp     891 non-null    int64  \n",
      " 5   Parch     891 non-null    int64  \n",
      " 6   Fare      891 non-null    float64\n",
      " 7   Cabin     891 non-null    int32  \n",
      " 8   Embarked  891 non-null    int32  \n",
      "dtypes: float64(2), int32(3), int64(4)\n",
      "memory usage: 52.3 KB\n"
     ]
    }
   ],
   "source": [
    "# we have three categorical columns cabin,embarked and sex.\n",
    "# As you can see the categorical data has been encoded\n",
    "df.info()"
   ]
  },
  {
   "cell_type": "code",
   "execution_count": 25,
   "id": "8e05ae40",
   "metadata": {},
   "outputs": [
    {
     "name": "stderr",
     "output_type": "stream",
     "text": [
      "C:\\Users\\SONY\\anaconda3\\lib\\site-packages\\seaborn\\distributions.py:2619: FutureWarning: `distplot` is a deprecated function and will be removed in a future version. Please adapt your code to use either `displot` (a figure-level function with similar flexibility) or `histplot` (an axes-level function for histograms).\n",
      "  warnings.warn(msg, FutureWarning)\n",
      "C:\\Users\\SONY\\anaconda3\\lib\\site-packages\\seaborn\\distributions.py:2619: FutureWarning: `distplot` is a deprecated function and will be removed in a future version. Please adapt your code to use either `displot` (a figure-level function with similar flexibility) or `histplot` (an axes-level function for histograms).\n",
      "  warnings.warn(msg, FutureWarning)\n",
      "C:\\Users\\SONY\\anaconda3\\lib\\site-packages\\seaborn\\distributions.py:2619: FutureWarning: `distplot` is a deprecated function and will be removed in a future version. Please adapt your code to use either `displot` (a figure-level function with similar flexibility) or `histplot` (an axes-level function for histograms).\n",
      "  warnings.warn(msg, FutureWarning)\n",
      "C:\\Users\\SONY\\anaconda3\\lib\\site-packages\\seaborn\\distributions.py:2619: FutureWarning: `distplot` is a deprecated function and will be removed in a future version. Please adapt your code to use either `displot` (a figure-level function with similar flexibility) or `histplot` (an axes-level function for histograms).\n",
      "  warnings.warn(msg, FutureWarning)\n",
      "C:\\Users\\SONY\\anaconda3\\lib\\site-packages\\seaborn\\distributions.py:2619: FutureWarning: `distplot` is a deprecated function and will be removed in a future version. Please adapt your code to use either `displot` (a figure-level function with similar flexibility) or `histplot` (an axes-level function for histograms).\n",
      "  warnings.warn(msg, FutureWarning)\n",
      "C:\\Users\\SONY\\anaconda3\\lib\\site-packages\\seaborn\\distributions.py:2619: FutureWarning: `distplot` is a deprecated function and will be removed in a future version. Please adapt your code to use either `displot` (a figure-level function with similar flexibility) or `histplot` (an axes-level function for histograms).\n",
      "  warnings.warn(msg, FutureWarning)\n",
      "C:\\Users\\SONY\\anaconda3\\lib\\site-packages\\seaborn\\distributions.py:2619: FutureWarning: `distplot` is a deprecated function and will be removed in a future version. Please adapt your code to use either `displot` (a figure-level function with similar flexibility) or `histplot` (an axes-level function for histograms).\n",
      "  warnings.warn(msg, FutureWarning)\n",
      "C:\\Users\\SONY\\anaconda3\\lib\\site-packages\\seaborn\\distributions.py:2619: FutureWarning: `distplot` is a deprecated function and will be removed in a future version. Please adapt your code to use either `displot` (a figure-level function with similar flexibility) or `histplot` (an axes-level function for histograms).\n",
      "  warnings.warn(msg, FutureWarning)\n",
      "C:\\Users\\SONY\\anaconda3\\lib\\site-packages\\seaborn\\distributions.py:2619: FutureWarning: `distplot` is a deprecated function and will be removed in a future version. Please adapt your code to use either `displot` (a figure-level function with similar flexibility) or `histplot` (an axes-level function for histograms).\n",
      "  warnings.warn(msg, FutureWarning)\n"
     ]
    },
    {
     "data": {
      "image/png": "[encoded data removed]",
      "text/plain": [
       "<Figure size 1440x1440 with 9 Axes>"
      ]
     },
     "metadata": {
      "needs_background": "light"
     },
     "output_type": "display_data"
    }
   ],
   "source": [
    "# Lets perform multivariate analysis through visualisation\n",
    "\n",
    "plt.figure(figsize=(20,20))\n",
    "\n",
    "plotnumber = 1\n",
    "\n",
    "for column in df:\n",
    "    if plotnumber<=9:\n",
    "        plt.subplot(5,5,plotnumber)\n",
    "        sns.distplot(df[column])\n",
    "        plt.title('distribution of data')\n",
    "        plt.xlabel(column)\n",
    "        \n",
    "    plotnumber += 1\n",
    "    \n",
    "plt.tight_layout()    "
   ]
  },
  {
   "cell_type": "code",
   "execution_count": 57,
   "id": "dd0c0290",
   "metadata": {},
   "outputs": [
    {
     "name": "stderr",
     "output_type": "stream",
     "text": [
      "C:\\Users\\SONY\\anaconda3\\lib\\site-packages\\seaborn\\_decorators.py:36: FutureWarning: Pass the following variables as keyword args: x, y. From version 0.12, the only valid positional argument will be `data`, and passing other arguments without an explicit keyword will result in an error or misinterpretation.\n",
      "  warnings.warn(\n",
      "C:\\Users\\SONY\\anaconda3\\lib\\site-packages\\seaborn\\_decorators.py:36: FutureWarning: Pass the following variables as keyword args: x, y. From version 0.12, the only valid positional argument will be `data`, and passing other arguments without an explicit keyword will result in an error or misinterpretation.\n",
      "  warnings.warn(\n",
      "C:\\Users\\SONY\\anaconda3\\lib\\site-packages\\seaborn\\_decorators.py:36: FutureWarning: Pass the following variables as keyword args: x, y. From version 0.12, the only valid positional argument will be `data`, and passing other arguments without an explicit keyword will result in an error or misinterpretation.\n",
      "  warnings.warn(\n",
      "C:\\Users\\SONY\\anaconda3\\lib\\site-packages\\seaborn\\_decorators.py:36: FutureWarning: Pass the following variables as keyword args: x, y. From version 0.12, the only valid positional argument will be `data`, and passing other arguments without an explicit keyword will result in an error or misinterpretation.\n",
      "  warnings.warn(\n",
      "C:\\Users\\SONY\\anaconda3\\lib\\site-packages\\seaborn\\_decorators.py:36: FutureWarning: Pass the following variables as keyword args: x, y. From version 0.12, the only valid positional argument will be `data`, and passing other arguments without an explicit keyword will result in an error or misinterpretation.\n",
      "  warnings.warn(\n",
      "C:\\Users\\SONY\\anaconda3\\lib\\site-packages\\seaborn\\_decorators.py:36: FutureWarning: Pass the following variables as keyword args: x, y. From version 0.12, the only valid positional argument will be `data`, and passing other arguments without an explicit keyword will result in an error or misinterpretation.\n",
      "  warnings.warn(\n",
      "C:\\Users\\SONY\\anaconda3\\lib\\site-packages\\seaborn\\_decorators.py:36: FutureWarning: Pass the following variables as keyword args: x, y. From version 0.12, the only valid positional argument will be `data`, and passing other arguments without an explicit keyword will result in an error or misinterpretation.\n",
      "  warnings.warn(\n",
      "C:\\Users\\SONY\\anaconda3\\lib\\site-packages\\seaborn\\_decorators.py:36: FutureWarning: Pass the following variables as keyword args: x, y. From version 0.12, the only valid positional argument will be `data`, and passing other arguments without an explicit keyword will result in an error or misinterpretation.\n",
      "  warnings.warn(\n"
     ]
    },
    {
     "data": {
      "image/png": "[encoded data removed]",
      "text/plain": [
       "<Figure size 1440x1440 with 8 Axes>"
      ]
     },
     "metadata": {
      "needs_background": "light"
     },
     "output_type": "display_data"
    }
   ],
   "source": [
    "# Lets perform multivariate analysis through visualisation.correlation between features and label\n",
    "\n",
    "plt.figure(figsize=(20,20))\n",
    "\n",
    "plotnumber = 1\n",
    "\n",
    "for column in df:\n",
    "    if plotnumber<=9:\n",
    "        plt.subplot(5,5,plotnumber)\n",
    "        sns.scatterplot(df[column],df['Survived'])\n",
    "        plt.title('correlation of data')\n",
    "        plt.xlabel(column)\n",
    "        \n",
    "    plotnumber += 1\n",
    "    \n",
    "plt.tight_layout()    "
   ]
  },
  {
   "cell_type": "code",
   "execution_count": 26,
   "id": "3cf5ba01",
   "metadata": {},
   "outputs": [
    {
     "name": "stderr",
     "output_type": "stream",
     "text": [
      "C:\\Users\\SONY\\anaconda3\\lib\\site-packages\\seaborn\\_decorators.py:36: FutureWarning: Pass the following variable as a keyword arg: x. From version 0.12, the only valid positional argument will be `data`, and passing other arguments without an explicit keyword will result in an error or misinterpretation.\n",
      "  warnings.warn(\n",
      "C:\\Users\\SONY\\anaconda3\\lib\\site-packages\\seaborn\\_decorators.py:36: FutureWarning: Pass the following variable as a keyword arg: x. From version 0.12, the only valid positional argument will be `data`, and passing other arguments without an explicit keyword will result in an error or misinterpretation.\n",
      "  warnings.warn(\n",
      "C:\\Users\\SONY\\anaconda3\\lib\\site-packages\\seaborn\\_decorators.py:36: FutureWarning: Pass the following variable as a keyword arg: x. From version 0.12, the only valid positional argument will be `data`, and passing other arguments without an explicit keyword will result in an error or misinterpretation.\n",
      "  warnings.warn(\n",
      "C:\\Users\\SONY\\anaconda3\\lib\\site-packages\\seaborn\\_decorators.py:36: FutureWarning: Pass the following variable as a keyword arg: x. From version 0.12, the only valid positional argument will be `data`, and passing other arguments without an explicit keyword will result in an error or misinterpretation.\n",
      "  warnings.warn(\n",
      "C:\\Users\\SONY\\anaconda3\\lib\\site-packages\\seaborn\\_decorators.py:36: FutureWarning: Pass the following variable as a keyword arg: x. From version 0.12, the only valid positional argument will be `data`, and passing other arguments without an explicit keyword will result in an error or misinterpretation.\n",
      "  warnings.warn(\n",
      "C:\\Users\\SONY\\anaconda3\\lib\\site-packages\\seaborn\\_decorators.py:36: FutureWarning: Pass the following variable as a keyword arg: x. From version 0.12, the only valid positional argument will be `data`, and passing other arguments without an explicit keyword will result in an error or misinterpretation.\n",
      "  warnings.warn(\n",
      "C:\\Users\\SONY\\anaconda3\\lib\\site-packages\\seaborn\\_decorators.py:36: FutureWarning: Pass the following variable as a keyword arg: x. From version 0.12, the only valid positional argument will be `data`, and passing other arguments without an explicit keyword will result in an error or misinterpretation.\n",
      "  warnings.warn(\n",
      "C:\\Users\\SONY\\anaconda3\\lib\\site-packages\\seaborn\\_decorators.py:36: FutureWarning: Pass the following variable as a keyword arg: x. From version 0.12, the only valid positional argument will be `data`, and passing other arguments without an explicit keyword will result in an error or misinterpretation.\n",
      "  warnings.warn(\n",
      "C:\\Users\\SONY\\anaconda3\\lib\\site-packages\\seaborn\\_decorators.py:36: FutureWarning: Pass the following variable as a keyword arg: x. From version 0.12, the only valid positional argument will be `data`, and passing other arguments without an explicit keyword will result in an error or misinterpretation.\n",
      "  warnings.warn(\n"
     ]
    },
    {
     "data": {
      "image/png": "[encoded data removed]",
      "text/plain": [
       "<Figure size 1440x1440 with 9 Axes>"
      ]
     },
     "metadata": {
      "needs_background": "light"
     },
     "output_type": "display_data"
    }
   ],
   "source": [
    "# Lets perform multivariate analysis through visualisation\n",
    "\n",
    "plt.figure(figsize=(20,20))\n",
    "\n",
    "plotnumber = 1\n",
    "\n",
    "for column in df:\n",
    "    if plotnumber<=9:\n",
    "        plt.subplot(5,5,plotnumber)\n",
    "        sns.countplot(df[column])\n",
    "        plt.title('distribution of data')\n",
    "        plt.xlabel(column)\n",
    "        \n",
    "    plotnumber += 1\n",
    "    \n",
    "plt.tight_layout()    "
   ]
  },
  {
   "cell_type": "code",
   "execution_count": 27,
   "id": "29e8160c",
   "metadata": {},
   "outputs": [
    {
     "name": "stderr",
     "output_type": "stream",
     "text": [
      "C:\\Users\\SONY\\anaconda3\\lib\\site-packages\\seaborn\\distributions.py:2619: FutureWarning: `distplot` is a deprecated function and will be removed in a future version. Please adapt your code to use either `displot` (a figure-level function with similar flexibility) or `histplot` (an axes-level function for histograms).\n",
      "  warnings.warn(msg, FutureWarning)\n"
     ]
    },
    {
     "data": {
      "text/plain": [
       "Text(0.5, 1.0, 'distribution')"
      ]
     },
     "execution_count": 27,
     "metadata": {},
     "output_type": "execute_result"
    },
    {
     "data": {
      "image/png": "[encoded data removed]",
      "text/plain": [
       "<Figure size 1440x1440 with 1 Axes>"
      ]
     },
     "metadata": {
      "needs_background": "light"
     },
     "output_type": "display_data"
    }
   ],
   "source": [
    "# conducting univariate analysis by looking at the age\n",
    "plt.figure(figsize=(20,20))\n",
    "sns.distplot(df['Age'])\n",
    "plt.title('distribution')"
   ]
  },
  {
   "cell_type": "code",
   "execution_count": 28,
   "id": "9d914b1c",
   "metadata": {},
   "outputs": [
    {
     "name": "stderr",
     "output_type": "stream",
     "text": [
      "C:\\Users\\SONY\\anaconda3\\lib\\site-packages\\seaborn\\_decorators.py:36: FutureWarning: Pass the following variable as a keyword arg: x. From version 0.12, the only valid positional argument will be `data`, and passing other arguments without an explicit keyword will result in an error or misinterpretation.\n",
      "  warnings.warn(\n"
     ]
    },
    {
     "data": {
      "text/plain": [
       "Text(0.5, 1.0, 'distribution')"
      ]
     },
     "execution_count": 28,
     "metadata": {},
     "output_type": "execute_result"
    },
    {
     "data": {
      "image/png": "[encoded data removed]",
      "text/plain": [
       "<Figure size 1440x1440 with 1 Axes>"
      ]
     },
     "metadata": {
      "needs_background": "light"
     },
     "output_type": "display_data"
    }
   ],
   "source": [
    "# conducting univariate analysis by looking at the age and checking for outliers by plotting box plot\n",
    "# from the plot we has 22 outliers,18 in the upper region and 4 in the lower region \n",
    "plt.figure(figsize=(20,20))\n",
    "sns.boxplot(df['Age'])\n",
    "plt.title('distribution')"
   ]
  },
  {
   "cell_type": "code",
   "execution_count": 29,
   "id": "da88d66f",
   "metadata": {},
   "outputs": [
    {
     "name": "stderr",
     "output_type": "stream",
     "text": [
      "C:\\Users\\SONY\\anaconda3\\lib\\site-packages\\seaborn\\_decorators.py:36: FutureWarning: Pass the following variable as a keyword arg: x. From version 0.12, the only valid positional argument will be `data`, and passing other arguments without an explicit keyword will result in an error or misinterpretation.\n",
      "  warnings.warn(\n"
     ]
    },
    {
     "data": {
      "text/plain": [
       "Text(0.5, 1.0, 'distribution')"
      ]
     },
     "execution_count": 29,
     "metadata": {},
     "output_type": "execute_result"
    },
    {
     "data": {
      "image/png": "[encoded data removed]",
      "text/plain": [
       "<Figure size 1440x1440 with 1 Axes>"
      ]
     },
     "metadata": {
      "needs_background": "light"
     },
     "output_type": "display_data"
    }
   ],
   "source": [
    "# conducting univariate analysis by looking at the fare and checking for outliers by plotting box plot\n",
    "# from the plot we have about 52 outliers in the upper region\n",
    "plt.figure(figsize=(20,20))\n",
    "sns.boxplot(df['Fare'])\n",
    "plt.title('distribution')"
   ]
  },
  {
   "cell_type": "code",
   "execution_count": 30,
   "id": "f6f240b2",
   "metadata": {},
   "outputs": [
    {
     "name": "stderr",
     "output_type": "stream",
     "text": [
      "C:\\Users\\SONY\\anaconda3\\lib\\site-packages\\seaborn\\distributions.py:2619: FutureWarning: `distplot` is a deprecated function and will be removed in a future version. Please adapt your code to use either `displot` (a figure-level function with similar flexibility) or `histplot` (an axes-level function for histograms).\n",
      "  warnings.warn(msg, FutureWarning)\n"
     ]
    },
    {
     "data": {
      "text/plain": [
       "Text(0.5, 1.0, 'distribution')"
      ]
     },
     "execution_count": 30,
     "metadata": {},
     "output_type": "execute_result"
    },
    {
     "data": {
      "image/png": "[encoded data removed]",
      "text/plain": [
       "<Figure size 1440x1440 with 1 Axes>"
      ]
     },
     "metadata": {
      "needs_background": "light"
     },
     "output_type": "display_data"
    }
   ],
   "source": [
    "# conducting univariate analysis by looking at the fare\n",
    "# The ourliers and skewness in the fare is understandable because of the class of people onboard the ship\n",
    "# its obvious that the fare of those in the upper class will definitely be far higher than those in the lower class.\n",
    "# we will have to keep the outliers because it is important data\n",
    "plt.figure(figsize=(20,20))\n",
    "sns.distplot(df['Fare'])\n",
    "plt.title('distribution')"
   ]
  },
  {
   "cell_type": "code",
   "execution_count": 31,
   "id": "854d9df8",
   "metadata": {},
   "outputs": [
    {
     "name": "stderr",
     "output_type": "stream",
     "text": [
      "C:\\Users\\SONY\\anaconda3\\lib\\site-packages\\seaborn\\_decorators.py:36: FutureWarning: Pass the following variable as a keyword arg: x. From version 0.12, the only valid positional argument will be `data`, and passing other arguments without an explicit keyword will result in an error or misinterpretation.\n",
      "  warnings.warn(\n"
     ]
    },
    {
     "data": {
      "text/plain": [
       "Text(0.5, 1.0, 'distribution')"
      ]
     },
     "execution_count": 31,
     "metadata": {},
     "output_type": "execute_result"
    },
    {
     "data": {
      "image/png": "[encoded data removed]",
      "text/plain": [
       "<Figure size 1440x1440 with 1 Axes>"
      ]
     },
     "metadata": {
      "needs_background": "light"
     },
     "output_type": "display_data"
    }
   ],
   "source": [
    "#we will have to drop the cabin because its to contributing anything to the survival chances\n",
    "plt.figure(figsize=(20,20))\n",
    "sns.countplot(df['Cabin'])\n",
    "plt.title('distribution')"
   ]
  },
  {
   "cell_type": "code",
   "execution_count": 32,
   "id": "992ef5f5",
   "metadata": {},
   "outputs": [],
   "source": [
    "df = df.drop('Cabin',axis=1)"
   ]
  },
  {
   "cell_type": "code",
   "execution_count": 33,
   "id": "b7a240c9",
   "metadata": {},
   "outputs": [
    {
     "data": {
      "text/plain": [
       "Index(['Survived', 'Pclass', 'Sex', 'Age', 'SibSp', 'Parch', 'Fare',\n",
       "       'Embarked'],\n",
       "      dtype='object')"
      ]
     },
     "execution_count": 33,
     "metadata": {},
     "output_type": "execute_result"
    }
   ],
   "source": [
    "df.columns"
   ]
  },
  {
   "cell_type": "code",
   "execution_count": 34,
   "id": "be430d11",
   "metadata": {},
   "outputs": [
    {
     "data": {
      "text/plain": [
       "Survived    1.000000\n",
       "Fare        0.257307\n",
       "Parch       0.081629\n",
       "SibSp      -0.035322\n",
       "Age        -0.069809\n",
       "Embarked   -0.167675\n",
       "Pclass     -0.338481\n",
       "Sex        -0.543351\n",
       "Name: Survived, dtype: float64"
      ]
     },
     "execution_count": 34,
     "metadata": {},
     "output_type": "execute_result"
    }
   ],
   "source": [
    "# looking at the correlation matrix and summary we can see that sex,fare,class had more correlations with the survived column.\n",
    "# This actually means that the sex,fare and the class contributed to whether or not anyone onboard the ship survived or not.\n",
    "# so those who payed higher fares stayed in the upper class and survived.\n",
    "# And the more attention was given to the females which was what led to them having more survivals\n",
    "# where they embarked from also had weak correlations so we will keep this feature\n",
    "# here we can see that Parch and SibSp has a higher correlation, which generally makes sense since Parents are more likely to travel with their multiple kids and spouses tend to travel together\n",
    "\n",
    "\n",
    "df.corr()['Survived'].sort_values(ascending=False)"
   ]
  },
  {
   "cell_type": "code",
   "execution_count": 35,
   "id": "6c8add21",
   "metadata": {},
   "outputs": [
    {
     "data": {
      "text/plain": [
       "<AxesSubplot:>"
      ]
     },
     "execution_count": 35,
     "metadata": {},
     "output_type": "execute_result"
    },
    {
     "data": {
      "image/png": "[encoded data removed]",
      "text/plain": [
       "<Figure size 1440x1440 with 2 Axes>"
      ]
     },
     "metadata": {
      "needs_background": "light"
     },
     "output_type": "display_data"
    }
   ],
   "source": [
    "# Lets perform multivariate analysis through visualisation\n",
    "# here we can see that Parch and SibSp has a higher correlation, which generally makes sense since Parents are more likely to travel with their multiple kids and spouses tend to travel together\n",
    "\n",
    "plt.figure(figsize=(20,20))\n",
    "\n",
    "sns.heatmap(df.corr(),annot=True)"
   ]
  },
  {
   "cell_type": "code",
   "execution_count": 36,
   "id": "59dfbfc9",
   "metadata": {},
   "outputs": [
    {
     "name": "stderr",
     "output_type": "stream",
     "text": [
      "C:\\Users\\SONY\\anaconda3\\lib\\site-packages\\seaborn\\_decorators.py:36: FutureWarning: Pass the following variable as a keyword arg: x. From version 0.12, the only valid positional argument will be `data`, and passing other arguments without an explicit keyword will result in an error or misinterpretation.\n",
      "  warnings.warn(\n",
      "C:\\Users\\SONY\\anaconda3\\lib\\site-packages\\seaborn\\_decorators.py:36: FutureWarning: Pass the following variable as a keyword arg: x. From version 0.12, the only valid positional argument will be `data`, and passing other arguments without an explicit keyword will result in an error or misinterpretation.\n",
      "  warnings.warn(\n",
      "C:\\Users\\SONY\\anaconda3\\lib\\site-packages\\seaborn\\_decorators.py:36: FutureWarning: Pass the following variable as a keyword arg: x. From version 0.12, the only valid positional argument will be `data`, and passing other arguments without an explicit keyword will result in an error or misinterpretation.\n",
      "  warnings.warn(\n",
      "C:\\Users\\SONY\\anaconda3\\lib\\site-packages\\seaborn\\_decorators.py:36: FutureWarning: Pass the following variable as a keyword arg: x. From version 0.12, the only valid positional argument will be `data`, and passing other arguments without an explicit keyword will result in an error or misinterpretation.\n",
      "  warnings.warn(\n",
      "C:\\Users\\SONY\\anaconda3\\lib\\site-packages\\seaborn\\_decorators.py:36: FutureWarning: Pass the following variable as a keyword arg: x. From version 0.12, the only valid positional argument will be `data`, and passing other arguments without an explicit keyword will result in an error or misinterpretation.\n",
      "  warnings.warn(\n",
      "C:\\Users\\SONY\\anaconda3\\lib\\site-packages\\seaborn\\_decorators.py:36: FutureWarning: Pass the following variable as a keyword arg: x. From version 0.12, the only valid positional argument will be `data`, and passing other arguments without an explicit keyword will result in an error or misinterpretation.\n",
      "  warnings.warn(\n",
      "C:\\Users\\SONY\\anaconda3\\lib\\site-packages\\seaborn\\_decorators.py:36: FutureWarning: Pass the following variable as a keyword arg: x. From version 0.12, the only valid positional argument will be `data`, and passing other arguments without an explicit keyword will result in an error or misinterpretation.\n",
      "  warnings.warn(\n",
      "C:\\Users\\SONY\\anaconda3\\lib\\site-packages\\seaborn\\_decorators.py:36: FutureWarning: Pass the following variable as a keyword arg: x. From version 0.12, the only valid positional argument will be `data`, and passing other arguments without an explicit keyword will result in an error or misinterpretation.\n",
      "  warnings.warn(\n"
     ]
    },
    {
     "data": {
      "image/png": "[encoded data removed]",
      "text/plain": [
       "<Figure size 1440x1440 with 8 Axes>"
      ]
     },
     "metadata": {
      "needs_background": "light"
     },
     "output_type": "display_data"
    }
   ],
   "source": [
    "# Lets perform multivariate analysis through visualisation\n",
    "# here we can see that Parch and SibSp has a higher correlation, which generally makes sense since Parents are more likely to travel with their multiple kids and spouses tend to travel together\n",
    "\n",
    "plt.figure(figsize=(20,20))\n",
    "\n",
    "plotnumber = 1\n",
    "\n",
    "for column in df:\n",
    "    if plotnumber<=9:\n",
    "        plt.subplot(5,5,plotnumber)\n",
    "        sns.boxplot(df[column])\n",
    "        plt.title('distribution of data')\n",
    "        plt.xlabel(column)\n",
    "        \n",
    "    plotnumber += 1\n",
    "    \n",
    "plt.tight_layout()    "
   ]
  },
  {
   "cell_type": "code",
   "execution_count": null,
   "id": "a5e96022",
   "metadata": {},
   "outputs": [],
   "source": [
    "# we can see outliers in age,sibsp an fare and like i said earlier we are not dropping any outlier in the fares column because of the disparity between the classses which inturn makes the fares to be very high"
   ]
  },
  {
   "cell_type": "code",
   "execution_count": 37,
   "id": "3f2b6af8",
   "metadata": {},
   "outputs": [
    {
     "name": "stdout",
     "output_type": "stream",
     "text": [
      "1    577\n",
      "0    314\n",
      "Name: Sex, dtype: int64\n"
     ]
    }
   ],
   "source": [
    "bysex=df['Sex'].value_counts()\n",
    "print(bysex)"
   ]
  },
  {
   "cell_type": "code",
   "execution_count": 48,
   "id": "98799719",
   "metadata": {},
   "outputs": [
    {
     "data": {
      "text/plain": [
       "1    577\n",
       "0    314\n",
       "Name: Sex, dtype: int64"
      ]
     },
     "execution_count": 48,
     "metadata": {},
     "output_type": "execute_result"
    }
   ],
   "source": [
    "# from the count below we have a total of 577 males an 314 females\n",
    "df.Sex.value_counts()"
   ]
  },
  {
   "cell_type": "code",
   "execution_count": 38,
   "id": "8f5db04a",
   "metadata": {},
   "outputs": [
    {
     "name": "stderr",
     "output_type": "stream",
     "text": [
      "C:\\Users\\SONY\\anaconda3\\lib\\site-packages\\seaborn\\axisgrid.py:670: UserWarning: Using the countplot function without specifying `order` is likely to produce an incorrect plot.\n",
      "  warnings.warn(warning)\n"
     ]
    },
    {
     "data": {
      "text/plain": [
       "<seaborn.axisgrid.FacetGrid at 0x299463cddc0>"
      ]
     },
     "execution_count": 38,
     "metadata": {},
     "output_type": "execute_result"
    },
    {
     "data": {
      "image/png": "[encoded data removed]",
      "text/plain": [
       "<Figure size 432x216 with 2 Axes>"
      ]
     },
     "metadata": {
      "needs_background": "light"
     },
     "output_type": "display_data"
    }
   ],
   "source": [
    "plot1 = sns.FacetGrid(df, col='Survived')\n",
    "plot1.map(sns.countplot,'Sex')"
   ]
  },
  {
   "cell_type": "code",
   "execution_count": 40,
   "id": "f62efadc",
   "metadata": {},
   "outputs": [
    {
     "data": {
      "image/png": "[encoded data removed]",
      "text/plain": [
       "<Figure size 432x288 with 1 Axes>"
      ]
     },
     "metadata": {
      "needs_background": "light"
     },
     "output_type": "display_data"
    }
   ],
   "source": [
    "# from this plot more men died compared to women and this is very understandable because women were given more preference in saving their lives\n",
    "# More women survived compared to men\n",
    "ax = sns.countplot(x=\"Survived\", hue=\"Sex\", data=df)"
   ]
  },
  {
   "cell_type": "code",
   "execution_count": 50,
   "id": "a46b3027",
   "metadata": {},
   "outputs": [
    {
     "data": {
      "image/png": "[encoded data removed]",
      "text/plain": [
       "<Figure size 432x288 with 1 Axes>"
      ]
     },
     "metadata": {
      "needs_background": "light"
     },
     "output_type": "display_data"
    }
   ],
   "source": [
    "# from the pclass the passengers that paid more stayed in the upper class.\n",
    "#From the analysis those that paid more an were in pclass wine survived more compared to those in pclass3.\n",
    "#Those in the lower class(pclass3) died more.\n",
    "\n",
    "ax = sns.countplot(x=\"Survived\", hue=\"Pclass\", data=df)"
   ]
  },
  {
   "cell_type": "code",
   "execution_count": 70,
   "id": "d5b6ba8b",
   "metadata": {},
   "outputs": [
    {
     "data": {
      "text/html": [
       "<div>\n",
       "<style scoped>\n",
       "    .dataframe tbody tr th:only-of-type {\n",
       "        vertical-align: middle;\n",
       "    }\n",
       "\n",
       "    .dataframe tbody tr th {\n",
       "        vertical-align: top;\n",
       "    }\n",
       "\n",
       "    .dataframe thead th {\n",
       "        text-align: right;\n",
       "    }\n",
       "</style>\n",
       "<table border=\"1\" class=\"dataframe\">\n",
       "  <thead>\n",
       "    <tr style=\"text-align: right;\">\n",
       "      <th></th>\n",
       "      <th>Age</th>\n",
       "      <th>Fare</th>\n",
       "      <th>Parch</th>\n",
       "      <th>Pclass</th>\n",
       "      <th>SibSp</th>\n",
       "    </tr>\n",
       "    <tr>\n",
       "      <th>Survived</th>\n",
       "      <th></th>\n",
       "      <th></th>\n",
       "      <th></th>\n",
       "      <th></th>\n",
       "      <th></th>\n",
       "    </tr>\n",
       "  </thead>\n",
       "  <tbody>\n",
       "    <tr>\n",
       "      <th>0</th>\n",
       "      <td>30.415100</td>\n",
       "      <td>22.117887</td>\n",
       "      <td>0.329690</td>\n",
       "      <td>2.531876</td>\n",
       "      <td>0.553734</td>\n",
       "    </tr>\n",
       "    <tr>\n",
       "      <th>1</th>\n",
       "      <td>28.549778</td>\n",
       "      <td>48.395408</td>\n",
       "      <td>0.464912</td>\n",
       "      <td>1.950292</td>\n",
       "      <td>0.473684</td>\n",
       "    </tr>\n",
       "  </tbody>\n",
       "</table>\n",
       "</div>"
      ],
      "text/plain": [
       "                Age       Fare     Parch    Pclass     SibSp\n",
       "Survived                                                    \n",
       "0         30.415100  22.117887  0.329690  2.531876  0.553734\n",
       "1         28.549778  48.395408  0.464912  1.950292  0.473684"
      ]
     },
     "execution_count": 70,
     "metadata": {},
     "output_type": "execute_result"
    }
   ],
   "source": [
    "pd.pivot_table(df, index = 'Survived', values = ['Age','SibSp','Parch','Fare','Pclass'])"
   ]
  },
  {
   "cell_type": "markdown",
   "id": "b60b6960",
   "metadata": {},
   "source": [
    "# The inference we can draw from this table is:\n",
    "\n",
    "#     The average age of survivors is 28, so young people tend to survive more.\n",
    "#     People who paid higher fare rates were more likely to survive, more than double. This might be the people traveling in first-class. Thus the rich survived, which is kind of a sad story in this scenario.\n",
    "#     In the 3rd column, If you have parents, you had a higher chance of surviving. So the parents might’ve saved the kids before themselves, thus explaining the rates\n",
    "#     And if you are a child, and have siblings, you have less of a chance of surviving\n"
   ]
  },
  {
   "cell_type": "code",
   "execution_count": 71,
   "id": "090f5543",
   "metadata": {},
   "outputs": [
    {
     "data": {
      "text/plain": [
       "Index(['Survived', 'Pclass', 'Sex', 'Age', 'SibSp', 'Parch', 'Fare',\n",
       "       'Embarked'],\n",
       "      dtype='object')"
      ]
     },
     "execution_count": 71,
     "metadata": {},
     "output_type": "execute_result"
    }
   ],
   "source": [
    "# Feature selection for model building\n",
    "\n",
    "df.columns"
   ]
  },
  {
   "cell_type": "code",
   "execution_count": 72,
   "id": "59b461d7",
   "metadata": {},
   "outputs": [],
   "source": [
    "# since there is multicolinearity between the parch and siblings we will drop parch.\n",
    "# The colinearity between the embarked and survived is weak so we drop it to\n",
    "\n",
    "\n",
    "df = df.drop(['Parch','Embarked'],axis=1)\n",
    "\n"
   ]
  },
  {
   "cell_type": "code",
   "execution_count": 74,
   "id": "c3462768",
   "metadata": {},
   "outputs": [],
   "source": [
    "# Lets split the data for training and testing\n",
    "\n",
    "from sklearn.model_selection import train_test_split"
   ]
  },
  {
   "cell_type": "code",
   "execution_count": 75,
   "id": "190278f7",
   "metadata": {},
   "outputs": [],
   "source": [
    "y = df['Survived']\n",
    "x = df.drop('Survived',axis=1)"
   ]
  },
  {
   "cell_type": "code",
   "execution_count": 76,
   "id": "15483a47",
   "metadata": {},
   "outputs": [],
   "source": [
    "# Lets scale the data\n",
    "from sklearn.preprocessing import StandardScaler"
   ]
  },
  {
   "cell_type": "code",
   "execution_count": 77,
   "id": "bca42d80",
   "metadata": {},
   "outputs": [],
   "source": [
    "scale = StandardScaler()\n",
    "x_scale = scale.fit_transform(x)"
   ]
  },
  {
   "cell_type": "code",
   "execution_count": 78,
   "id": "e4574e70",
   "metadata": {},
   "outputs": [],
   "source": [
    "# lets import our models\n",
    "\n",
    "from sklearn.linear_model import LogisticRegression\n",
    "from sklearn.neighbors import KNeighborsClassifier\n",
    "from sklearn.svm import SVC\n",
    "from sklearn.naive_bayes import GaussianNB\n",
    "from sklearn.tree import DecisionTreeClassifier\n",
    "from sklearn.ensemble import RandomForestClassifier\n",
    "from sklearn.ensemble import AdaBoostClassifier\n",
    "from sklearn.ensemble import GradientBoostingClassifier\n",
    "from sklearn.linear_model import SGDClassifier\n",
    "from xgboost import XGBRFClassifier\n",
    "from sklearn.metrics import classification_report,confusion_matrix,accuracy_score,roc_auc_score,roc_curve\n",
    "from sklearn.model_selection import GridSearchCV,cross_val_score,KFold,cross_validate"
   ]
  },
  {
   "cell_type": "markdown",
   "id": "f03dd801",
   "metadata": {},
   "source": [
    "# Model selection and building and model evaluation"
   ]
  },
  {
   "cell_type": "code",
   "execution_count": 81,
   "id": "a0ecadf2",
   "metadata": {},
   "outputs": [
    {
     "name": "stdout",
     "output_type": "stream",
     "text": [
      "The accuracy score at random state 1 for lr model is: 0.7988826815642458\n",
      "The accuracy score at random state 1 for kc model is: 0.7430167597765364\n",
      "The accuracy score at random state 1 for sv model is: 0.7877094972067039\n",
      "The accuracy score at random state 1 for nb model is: 0.7486033519553073\n",
      "The accuracy score at random state 1 for dt model is: 0.7486033519553073\n",
      "The accuracy score at random state 1 for rf model is: 0.7877094972067039\n",
      "The accuracy score at random state 1 for ac model is: 0.7486033519553073\n",
      "The accuracy score at random state 1 for gc model is: 0.7932960893854749\n",
      "The accuracy score at random state 1 for sc model is: 0.7206703910614525\n",
      "The accuracy score at random state 1 for xg model is: 0.8044692737430168\n",
      "The accuracy score at random state 2 for lr model is: 0.770949720670391\n",
      "The accuracy score at random state 2 for kc model is: 0.776536312849162\n",
      "The accuracy score at random state 2 for sv model is: 0.7932960893854749\n",
      "The accuracy score at random state 2 for nb model is: 0.7597765363128491\n",
      "The accuracy score at random state 2 for dt model is: 0.7541899441340782\n",
      "The accuracy score at random state 2 for rf model is: 0.8100558659217877\n",
      "The accuracy score at random state 2 for ac model is: 0.770949720670391\n",
      "The accuracy score at random state 2 for gc model is: 0.7877094972067039\n",
      "The accuracy score at random state 2 for sc model is: 0.7597765363128491\n",
      "The accuracy score at random state 2 for xg model is: 0.7932960893854749\n",
      "The accuracy score at random state 3 for lr model is: 0.7653631284916201\n",
      "The accuracy score at random state 3 for kc model is: 0.7653631284916201\n",
      "The accuracy score at random state 3 for sv model is: 0.7988826815642458\n",
      "The accuracy score at random state 3 for nb model is: 0.7318435754189944\n",
      "The accuracy score at random state 3 for dt model is: 0.7653631284916201\n",
      "The accuracy score at random state 3 for rf model is: 0.7821229050279329\n",
      "The accuracy score at random state 3 for ac model is: 0.7541899441340782\n",
      "The accuracy score at random state 3 for gc model is: 0.7932960893854749\n",
      "The accuracy score at random state 3 for sc model is: 0.7318435754189944\n",
      "The accuracy score at random state 3 for xg model is: 0.7653631284916201\n",
      "The accuracy score at random state 4 for lr model is: 0.8212290502793296\n",
      "The accuracy score at random state 4 for kc model is: 0.8268156424581006\n",
      "The accuracy score at random state 4 for sv model is: 0.8379888268156425\n",
      "The accuracy score at random state 4 for nb model is: 0.8156424581005587\n",
      "The accuracy score at random state 4 for dt model is: 0.7988826815642458\n",
      "The accuracy score at random state 4 for rf model is: 0.8268156424581006\n",
      "The accuracy score at random state 4 for ac model is: 0.8044692737430168\n",
      "The accuracy score at random state 4 for gc model is: 0.8547486033519553\n",
      "The accuracy score at random state 4 for sc model is: 0.776536312849162\n",
      "The accuracy score at random state 4 for xg model is: 0.8435754189944135\n",
      "The accuracy score at random state 5 for lr model is: 0.8212290502793296\n",
      "The accuracy score at random state 5 for kc model is: 0.8268156424581006\n",
      "The accuracy score at random state 5 for sv model is: 0.8212290502793296\n",
      "The accuracy score at random state 5 for nb model is: 0.8212290502793296\n",
      "The accuracy score at random state 5 for dt model is: 0.8100558659217877\n",
      "The accuracy score at random state 5 for rf model is: 0.8603351955307262\n",
      "The accuracy score at random state 5 for ac model is: 0.8491620111731844\n",
      "The accuracy score at random state 5 for gc model is: 0.8547486033519553\n",
      "The accuracy score at random state 5 for sc model is: 0.7988826815642458\n",
      "The accuracy score at random state 5 for xg model is: 0.8379888268156425\n",
      "The accuracy score at random state 6 for lr model is: 0.8603351955307262\n",
      "The accuracy score at random state 6 for kc model is: 0.8547486033519553\n",
      "The accuracy score at random state 6 for sv model is: 0.8659217877094972\n",
      "The accuracy score at random state 6 for nb model is: 0.8324022346368715\n",
      "The accuracy score at random state 6 for dt model is: 0.7821229050279329\n",
      "The accuracy score at random state 6 for rf model is: 0.8435754189944135\n",
      "The accuracy score at random state 6 for ac model is: 0.8770949720670391\n",
      "The accuracy score at random state 6 for gc model is: 0.8715083798882681\n",
      "The accuracy score at random state 6 for sc model is: 0.8212290502793296\n",
      "The accuracy score at random state 6 for xg model is: 0.8603351955307262\n",
      "The accuracy score at random state 7 for lr model is: 0.7653631284916201\n",
      "The accuracy score at random state 7 for kc model is: 0.7541899441340782\n",
      "The accuracy score at random state 7 for sv model is: 0.7486033519553073\n",
      "The accuracy score at random state 7 for nb model is: 0.7597765363128491\n",
      "The accuracy score at random state 7 for dt model is: 0.7597765363128491\n",
      "The accuracy score at random state 7 for rf model is: 0.7821229050279329\n",
      "The accuracy score at random state 7 for ac model is: 0.7541899441340782\n",
      "The accuracy score at random state 7 for gc model is: 0.7877094972067039\n",
      "The accuracy score at random state 7 for sc model is: 0.659217877094972\n",
      "The accuracy score at random state 7 for xg model is: 0.7653631284916201\n",
      "The accuracy score at random state 8 for lr model is: 0.7597765363128491\n",
      "The accuracy score at random state 8 for kc model is: 0.7932960893854749\n",
      "The accuracy score at random state 8 for sv model is: 0.7821229050279329\n",
      "The accuracy score at random state 8 for nb model is: 0.7374301675977654\n",
      "The accuracy score at random state 8 for dt model is: 0.770949720670391\n",
      "The accuracy score at random state 8 for rf model is: 0.8212290502793296\n",
      "The accuracy score at random state 8 for ac model is: 0.7877094972067039\n",
      "The accuracy score at random state 8 for gc model is: 0.8100558659217877\n",
      "The accuracy score at random state 8 for sc model is: 0.7374301675977654\n",
      "The accuracy score at random state 8 for xg model is: 0.7932960893854749\n",
      "The accuracy score at random state 9 for lr model is: 0.7653631284916201\n",
      "The accuracy score at random state 9 for kc model is: 0.7653631284916201\n",
      "The accuracy score at random state 9 for sv model is: 0.7653631284916201\n",
      "The accuracy score at random state 9 for nb model is: 0.7541899441340782\n",
      "The accuracy score at random state 9 for dt model is: 0.7541899441340782\n",
      "The accuracy score at random state 9 for rf model is: 0.7877094972067039\n",
      "The accuracy score at random state 9 for ac model is: 0.7821229050279329\n",
      "The accuracy score at random state 9 for gc model is: 0.7821229050279329\n",
      "The accuracy score at random state 9 for sc model is: 0.7374301675977654\n",
      "The accuracy score at random state 9 for xg model is: 0.7877094972067039\n",
      "The accuracy score at random state 10 for lr model is: 0.8100558659217877\n",
      "The accuracy score at random state 10 for kc model is: 0.8100558659217877\n",
      "The accuracy score at random state 10 for sv model is: 0.8156424581005587\n",
      "The accuracy score at random state 10 for nb model is: 0.7877094972067039\n",
      "The accuracy score at random state 10 for dt model is: 0.7932960893854749\n",
      "The accuracy score at random state 10 for rf model is: 0.8324022346368715\n",
      "The accuracy score at random state 10 for ac model is: 0.8268156424581006\n",
      "The accuracy score at random state 10 for gc model is: 0.8547486033519553\n",
      "The accuracy score at random state 10 for sc model is: 0.8324022346368715\n",
      "The accuracy score at random state 10 for xg model is: 0.8268156424581006\n",
      "The accuracy score at random state 11 for lr model is: 0.8268156424581006\n",
      "The accuracy score at random state 11 for kc model is: 0.8547486033519553\n",
      "The accuracy score at random state 11 for sv model is: 0.8659217877094972\n",
      "The accuracy score at random state 11 for nb model is: 0.8100558659217877\n",
      "The accuracy score at random state 11 for dt model is: 0.8156424581005587\n",
      "The accuracy score at random state 11 for rf model is: 0.8435754189944135\n",
      "The accuracy score at random state 11 for ac model is: 0.8379888268156425\n",
      "The accuracy score at random state 11 for gc model is: 0.8770949720670391\n",
      "The accuracy score at random state 11 for sc model is: 0.8379888268156425\n",
      "The accuracy score at random state 11 for xg model is: 0.8715083798882681\n",
      "The accuracy score at random state 12 for lr model is: 0.776536312849162\n",
      "The accuracy score at random state 12 for kc model is: 0.7430167597765364\n",
      "The accuracy score at random state 12 for sv model is: 0.776536312849162\n",
      "The accuracy score at random state 12 for nb model is: 0.7597765363128491\n",
      "The accuracy score at random state 12 for dt model is: 0.770949720670391\n",
      "The accuracy score at random state 12 for rf model is: 0.7821229050279329\n",
      "The accuracy score at random state 12 for ac model is: 0.7653631284916201\n",
      "The accuracy score at random state 12 for gc model is: 0.770949720670391\n",
      "The accuracy score at random state 12 for sc model is: 0.7039106145251397\n",
      "The accuracy score at random state 12 for xg model is: 0.776536312849162\n",
      "The accuracy score at random state 13 for lr model is: 0.8100558659217877\n",
      "The accuracy score at random state 13 for kc model is: 0.8212290502793296\n",
      "The accuracy score at random state 13 for sv model is: 0.8379888268156425\n",
      "The accuracy score at random state 13 for nb model is: 0.8100558659217877\n",
      "The accuracy score at random state 13 for dt model is: 0.7877094972067039\n",
      "The accuracy score at random state 13 for rf model is: 0.8324022346368715\n",
      "The accuracy score at random state 13 for ac model is: 0.8491620111731844\n",
      "The accuracy score at random state 13 for gc model is: 0.8435754189944135\n",
      "The accuracy score at random state 13 for sc model is: 0.7988826815642458\n",
      "The accuracy score at random state 13 for xg model is: 0.8379888268156425\n",
      "The accuracy score at random state 14 for lr model is: 0.8044692737430168\n",
      "The accuracy score at random state 14 for kc model is: 0.8156424581005587\n",
      "The accuracy score at random state 14 for sv model is: 0.8435754189944135\n",
      "The accuracy score at random state 14 for nb model is: 0.7877094972067039\n",
      "The accuracy score at random state 14 for dt model is: 0.7821229050279329\n",
      "The accuracy score at random state 14 for rf model is: 0.8100558659217877\n",
      "The accuracy score at random state 14 for ac model is: 0.7932960893854749\n",
      "The accuracy score at random state 14 for gc model is: 0.8547486033519553\n",
      "The accuracy score at random state 14 for sc model is: 0.7821229050279329\n",
      "The accuracy score at random state 14 for xg model is: 0.8324022346368715\n",
      "The accuracy score at random state 15 for lr model is: 0.8044692737430168\n",
      "The accuracy score at random state 15 for kc model is: 0.7932960893854749\n",
      "The accuracy score at random state 15 for sv model is: 0.8156424581005587\n",
      "The accuracy score at random state 15 for nb model is: 0.8156424581005587\n",
      "The accuracy score at random state 15 for dt model is: 0.770949720670391\n",
      "The accuracy score at random state 15 for rf model is: 0.8100558659217877\n",
      "The accuracy score at random state 15 for ac model is: 0.8044692737430168\n",
      "The accuracy score at random state 15 for gc model is: 0.8379888268156425\n",
      "The accuracy score at random state 15 for sc model is: 0.7932960893854749\n",
      "The accuracy score at random state 15 for xg model is: 0.8268156424581006\n",
      "The accuracy score at random state 16 for lr model is: 0.770949720670391\n",
      "The accuracy score at random state 16 for kc model is: 0.7932960893854749\n",
      "The accuracy score at random state 16 for sv model is: 0.7877094972067039\n",
      "The accuracy score at random state 16 for nb model is: 0.7597765363128491\n",
      "The accuracy score at random state 16 for dt model is: 0.7597765363128491\n",
      "The accuracy score at random state 16 for rf model is: 0.7821229050279329\n",
      "The accuracy score at random state 16 for ac model is: 0.7821229050279329\n",
      "The accuracy score at random state 16 for gc model is: 0.8156424581005587\n",
      "The accuracy score at random state 16 for sc model is: 0.7318435754189944\n",
      "The accuracy score at random state 16 for xg model is: 0.8156424581005587\n",
      "The accuracy score at random state 17 for lr model is: 0.7541899441340782\n",
      "The accuracy score at random state 17 for kc model is: 0.8156424581005587\n",
      "The accuracy score at random state 17 for sv model is: 0.7988826815642458\n",
      "The accuracy score at random state 17 for nb model is: 0.7821229050279329\n",
      "The accuracy score at random state 17 for dt model is: 0.8044692737430168\n",
      "The accuracy score at random state 17 for rf model is: 0.8212290502793296\n",
      "The accuracy score at random state 17 for ac model is: 0.7988826815642458\n",
      "The accuracy score at random state 17 for gc model is: 0.8156424581005587\n",
      "The accuracy score at random state 17 for sc model is: 0.7318435754189944\n",
      "The accuracy score at random state 17 for xg model is: 0.8156424581005587\n",
      "The accuracy score at random state 18 for lr model is: 0.8324022346368715\n",
      "The accuracy score at random state 18 for kc model is: 0.8603351955307262\n",
      "The accuracy score at random state 18 for sv model is: 0.8491620111731844\n",
      "The accuracy score at random state 18 for nb model is: 0.8379888268156425\n",
      "The accuracy score at random state 18 for dt model is: 0.8100558659217877\n",
      "The accuracy score at random state 18 for rf model is: 0.8715083798882681\n",
      "The accuracy score at random state 18 for ac model is: 0.8603351955307262\n",
      "The accuracy score at random state 18 for gc model is: 0.8603351955307262\n",
      "The accuracy score at random state 18 for sc model is: 0.8212290502793296\n",
      "The accuracy score at random state 18 for xg model is: 0.8715083798882681\n",
      "The accuracy score at random state 19 for lr model is: 0.8379888268156425\n",
      "The accuracy score at random state 19 for kc model is: 0.8659217877094972\n",
      "The accuracy score at random state 19 for sv model is: 0.8770949720670391\n",
      "The accuracy score at random state 19 for nb model is: 0.8379888268156425\n",
      "The accuracy score at random state 19 for dt model is: 0.7877094972067039\n",
      "The accuracy score at random state 19 for rf model is: 0.8603351955307262\n",
      "The accuracy score at random state 19 for ac model is: 0.8547486033519553\n",
      "The accuracy score at random state 19 for gc model is: 0.888268156424581\n",
      "The accuracy score at random state 19 for sc model is: 0.8212290502793296\n",
      "The accuracy score at random state 19 for xg model is: 0.8603351955307262\n",
      "The accuracy score at random state 20 for lr model is: 0.8324022346368715\n",
      "The accuracy score at random state 20 for kc model is: 0.7988826815642458\n",
      "The accuracy score at random state 20 for sv model is: 0.8491620111731844\n",
      "The accuracy score at random state 20 for nb model is: 0.8379888268156425\n",
      "The accuracy score at random state 20 for dt model is: 0.7430167597765364\n",
      "The accuracy score at random state 20 for rf model is: 0.8324022346368715\n",
      "The accuracy score at random state 20 for ac model is: 0.8379888268156425\n",
      "The accuracy score at random state 20 for gc model is: 0.8435754189944135\n",
      "The accuracy score at random state 20 for sc model is: 0.8100558659217877\n",
      "The accuracy score at random state 20 for xg model is: 0.8212290502793296\n",
      "The accuracy score at random state 21 for lr model is: 0.8100558659217877\n",
      "The accuracy score at random state 21 for kc model is: 0.8044692737430168\n",
      "The accuracy score at random state 21 for sv model is: 0.8268156424581006\n",
      "The accuracy score at random state 21 for nb model is: 0.8156424581005587\n",
      "The accuracy score at random state 21 for dt model is: 0.7877094972067039\n",
      "The accuracy score at random state 21 for rf model is: 0.8100558659217877\n",
      "The accuracy score at random state 21 for ac model is: 0.8212290502793296\n",
      "The accuracy score at random state 21 for gc model is: 0.8435754189944135\n",
      "The accuracy score at random state 21 for sc model is: 0.8156424581005587\n",
      "The accuracy score at random state 21 for xg model is: 0.8212290502793296\n",
      "The accuracy score at random state 22 for lr model is: 0.7653631284916201\n",
      "The accuracy score at random state 22 for kc model is: 0.770949720670391\n",
      "The accuracy score at random state 22 for sv model is: 0.776536312849162\n",
      "The accuracy score at random state 22 for nb model is: 0.7541899441340782\n",
      "The accuracy score at random state 22 for dt model is: 0.776536312849162\n",
      "The accuracy score at random state 22 for rf model is: 0.8044692737430168\n",
      "The accuracy score at random state 22 for ac model is: 0.7597765363128491\n",
      "The accuracy score at random state 22 for gc model is: 0.7988826815642458\n",
      "The accuracy score at random state 22 for sc model is: 0.7039106145251397\n",
      "The accuracy score at random state 22 for xg model is: 0.8044692737430168\n",
      "The accuracy score at random state 23 for lr model is: 0.7597765363128491\n",
      "The accuracy score at random state 23 for kc model is: 0.7653631284916201\n",
      "The accuracy score at random state 23 for sv model is: 0.8156424581005587\n",
      "The accuracy score at random state 23 for nb model is: 0.8212290502793296\n",
      "The accuracy score at random state 23 for dt model is: 0.770949720670391\n",
      "The accuracy score at random state 23 for rf model is: 0.7877094972067039\n",
      "The accuracy score at random state 23 for ac model is: 0.8212290502793296\n",
      "The accuracy score at random state 23 for gc model is: 0.8268156424581006\n",
      "The accuracy score at random state 23 for sc model is: 0.7094972067039106\n",
      "The accuracy score at random state 23 for xg model is: 0.7877094972067039\n",
      "The accuracy score at random state 24 for lr model is: 0.8156424581005587\n",
      "The accuracy score at random state 24 for kc model is: 0.8268156424581006\n",
      "The accuracy score at random state 24 for sv model is: 0.8156424581005587\n",
      "The accuracy score at random state 24 for nb model is: 0.7988826815642458\n",
      "The accuracy score at random state 24 for dt model is: 0.7877094972067039\n",
      "The accuracy score at random state 24 for rf model is: 0.8324022346368715\n",
      "The accuracy score at random state 24 for ac model is: 0.8324022346368715\n",
      "The accuracy score at random state 24 for gc model is: 0.8547486033519553\n",
      "The accuracy score at random state 24 for sc model is: 0.8212290502793296\n",
      "The accuracy score at random state 24 for xg model is: 0.8491620111731844\n",
      "The accuracy score at random state 25 for lr model is: 0.8044692737430168\n",
      "The accuracy score at random state 25 for kc model is: 0.7877094972067039\n",
      "The accuracy score at random state 25 for sv model is: 0.8156424581005587\n",
      "The accuracy score at random state 25 for nb model is: 0.8044692737430168\n",
      "The accuracy score at random state 25 for dt model is: 0.776536312849162\n",
      "The accuracy score at random state 25 for rf model is: 0.7988826815642458\n",
      "The accuracy score at random state 25 for ac model is: 0.8324022346368715\n",
      "The accuracy score at random state 25 for gc model is: 0.8156424581005587\n",
      "The accuracy score at random state 25 for sc model is: 0.7374301675977654\n",
      "The accuracy score at random state 25 for xg model is: 0.8268156424581006\n",
      "The accuracy score at random state 26 for lr model is: 0.8044692737430168\n",
      "The accuracy score at random state 26 for kc model is: 0.7988826815642458\n",
      "The accuracy score at random state 26 for sv model is: 0.8156424581005587\n",
      "The accuracy score at random state 26 for nb model is: 0.7821229050279329\n",
      "The accuracy score at random state 26 for dt model is: 0.7821229050279329\n",
      "The accuracy score at random state 26 for rf model is: 0.8379888268156425\n",
      "The accuracy score at random state 26 for ac model is: 0.8212290502793296\n",
      "The accuracy score at random state 26 for gc model is: 0.8324022346368715\n",
      "The accuracy score at random state 26 for sc model is: 0.7541899441340782\n",
      "The accuracy score at random state 26 for xg model is: 0.8379888268156425\n",
      "The accuracy score at random state 27 for lr model is: 0.8044692737430168\n",
      "The accuracy score at random state 27 for kc model is: 0.8212290502793296\n",
      "The accuracy score at random state 27 for sv model is: 0.8324022346368715\n",
      "The accuracy score at random state 27 for nb model is: 0.7988826815642458\n",
      "The accuracy score at random state 27 for dt model is: 0.7932960893854749\n",
      "The accuracy score at random state 27 for rf model is: 0.8379888268156425\n",
      "The accuracy score at random state 27 for ac model is: 0.8268156424581006\n",
      "The accuracy score at random state 27 for gc model is: 0.8212290502793296\n",
      "The accuracy score at random state 27 for sc model is: 0.7988826815642458\n",
      "The accuracy score at random state 27 for xg model is: 0.8212290502793296\n",
      "The accuracy score at random state 28 for lr model is: 0.7821229050279329\n",
      "The accuracy score at random state 28 for kc model is: 0.7988826815642458\n",
      "The accuracy score at random state 28 for sv model is: 0.8324022346368715\n",
      "The accuracy score at random state 28 for nb model is: 0.7988826815642458\n",
      "The accuracy score at random state 28 for dt model is: 0.7541899441340782\n",
      "The accuracy score at random state 28 for rf model is: 0.8212290502793296\n",
      "The accuracy score at random state 28 for ac model is: 0.8268156424581006\n",
      "The accuracy score at random state 28 for gc model is: 0.8324022346368715\n",
      "The accuracy score at random state 28 for sc model is: 0.770949720670391\n",
      "The accuracy score at random state 28 for xg model is: 0.8379888268156425\n",
      "The accuracy score at random state 29 for lr model is: 0.776536312849162\n",
      "The accuracy score at random state 29 for kc model is: 0.7988826815642458\n",
      "The accuracy score at random state 29 for sv model is: 0.8100558659217877\n",
      "The accuracy score at random state 29 for nb model is: 0.7653631284916201\n",
      "The accuracy score at random state 29 for dt model is: 0.7877094972067039\n",
      "The accuracy score at random state 29 for rf model is: 0.770949720670391\n",
      "The accuracy score at random state 29 for ac model is: 0.8044692737430168\n",
      "The accuracy score at random state 29 for gc model is: 0.8212290502793296\n",
      "The accuracy score at random state 29 for sc model is: 0.7597765363128491\n",
      "The accuracy score at random state 29 for xg model is: 0.8379888268156425\n",
      "The accuracy score at random state 30 for lr model is: 0.776536312849162\n",
      "The accuracy score at random state 30 for kc model is: 0.7821229050279329\n",
      "The accuracy score at random state 30 for sv model is: 0.7877094972067039\n",
      "The accuracy score at random state 30 for nb model is: 0.7541899441340782\n",
      "The accuracy score at random state 30 for dt model is: 0.7541899441340782\n",
      "The accuracy score at random state 30 for rf model is: 0.8044692737430168\n",
      "The accuracy score at random state 30 for ac model is: 0.7877094972067039\n",
      "The accuracy score at random state 30 for gc model is: 0.8156424581005587\n",
      "The accuracy score at random state 30 for sc model is: 0.6424581005586593\n",
      "The accuracy score at random state 30 for xg model is: 0.8379888268156425\n",
      "The accuracy score at random state 31 for lr model is: 0.7877094972067039\n",
      "The accuracy score at random state 31 for kc model is: 0.8100558659217877\n",
      "The accuracy score at random state 31 for sv model is: 0.8100558659217877\n",
      "The accuracy score at random state 31 for nb model is: 0.770949720670391\n",
      "The accuracy score at random state 31 for dt model is: 0.7877094972067039\n",
      "The accuracy score at random state 31 for rf model is: 0.7988826815642458\n",
      "The accuracy score at random state 31 for ac model is: 0.8379888268156425\n",
      "The accuracy score at random state 31 for gc model is: 0.8100558659217877\n",
      "The accuracy score at random state 31 for sc model is: 0.7430167597765364\n",
      "The accuracy score at random state 31 for xg model is: 0.8156424581005587\n",
      "The accuracy score at random state 32 for lr model is: 0.770949720670391\n",
      "The accuracy score at random state 32 for kc model is: 0.7821229050279329\n",
      "The accuracy score at random state 32 for sv model is: 0.8100558659217877\n",
      "The accuracy score at random state 32 for nb model is: 0.770949720670391\n",
      "The accuracy score at random state 32 for dt model is: 0.7541899441340782\n",
      "The accuracy score at random state 32 for rf model is: 0.8100558659217877\n",
      "The accuracy score at random state 32 for ac model is: 0.8324022346368715\n",
      "The accuracy score at random state 32 for gc model is: 0.8379888268156425\n",
      "The accuracy score at random state 32 for sc model is: 0.7094972067039106\n",
      "The accuracy score at random state 32 for xg model is: 0.8268156424581006\n",
      "The accuracy score at random state 33 for lr model is: 0.8044692737430168\n",
      "The accuracy score at random state 33 for kc model is: 0.8100558659217877\n",
      "The accuracy score at random state 33 for sv model is: 0.8156424581005587\n",
      "The accuracy score at random state 33 for nb model is: 0.7821229050279329\n",
      "The accuracy score at random state 33 for dt model is: 0.8547486033519553\n",
      "The accuracy score at random state 33 for rf model is: 0.8212290502793296\n",
      "The accuracy score at random state 33 for ac model is: 0.8044692737430168\n",
      "The accuracy score at random state 33 for gc model is: 0.8324022346368715\n",
      "The accuracy score at random state 33 for sc model is: 0.6312849162011173\n",
      "The accuracy score at random state 33 for xg model is: 0.8212290502793296\n",
      "The accuracy score at random state 34 for lr model is: 0.8156424581005587\n",
      "The accuracy score at random state 34 for kc model is: 0.8044692737430168\n",
      "The accuracy score at random state 34 for sv model is: 0.8547486033519553\n",
      "The accuracy score at random state 34 for nb model is: 0.8156424581005587\n",
      "The accuracy score at random state 34 for dt model is: 0.8156424581005587\n",
      "The accuracy score at random state 34 for rf model is: 0.8659217877094972\n",
      "The accuracy score at random state 34 for ac model is: 0.7988826815642458\n",
      "The accuracy score at random state 34 for gc model is: 0.8603351955307262\n",
      "The accuracy score at random state 34 for sc model is: 0.8435754189944135\n",
      "The accuracy score at random state 34 for xg model is: 0.8603351955307262\n",
      "The accuracy score at random state 35 for lr model is: 0.8044692737430168\n",
      "The accuracy score at random state 35 for kc model is: 0.8044692737430168\n",
      "The accuracy score at random state 35 for sv model is: 0.8100558659217877\n",
      "The accuracy score at random state 35 for nb model is: 0.7541899441340782\n",
      "The accuracy score at random state 35 for dt model is: 0.776536312849162\n",
      "The accuracy score at random state 35 for rf model is: 0.8156424581005587\n",
      "The accuracy score at random state 35 for ac model is: 0.7877094972067039\n",
      "The accuracy score at random state 35 for gc model is: 0.8491620111731844\n",
      "The accuracy score at random state 35 for sc model is: 0.6927374301675978\n",
      "The accuracy score at random state 35 for xg model is: 0.8491620111731844\n",
      "The accuracy score at random state 36 for lr model is: 0.7988826815642458\n",
      "The accuracy score at random state 36 for kc model is: 0.7877094972067039\n",
      "The accuracy score at random state 36 for sv model is: 0.8324022346368715\n",
      "The accuracy score at random state 36 for nb model is: 0.8212290502793296\n",
      "The accuracy score at random state 36 for dt model is: 0.8044692737430168\n",
      "The accuracy score at random state 36 for rf model is: 0.8491620111731844\n",
      "The accuracy score at random state 36 for ac model is: 0.8379888268156425\n",
      "The accuracy score at random state 36 for gc model is: 0.8435754189944135\n",
      "The accuracy score at random state 36 for sc model is: 0.7430167597765364\n",
      "The accuracy score at random state 36 for xg model is: 0.8156424581005587\n",
      "The accuracy score at random state 37 for lr model is: 0.7932960893854749\n",
      "The accuracy score at random state 37 for kc model is: 0.8044692737430168\n",
      "The accuracy score at random state 37 for sv model is: 0.8156424581005587\n",
      "The accuracy score at random state 37 for nb model is: 0.7653631284916201\n",
      "The accuracy score at random state 37 for dt model is: 0.770949720670391\n",
      "The accuracy score at random state 37 for rf model is: 0.8268156424581006\n",
      "The accuracy score at random state 37 for ac model is: 0.8100558659217877\n",
      "The accuracy score at random state 37 for gc model is: 0.8435754189944135\n",
      "The accuracy score at random state 37 for sc model is: 0.776536312849162\n",
      "The accuracy score at random state 37 for xg model is: 0.8435754189944135\n",
      "The accuracy score at random state 38 for lr model is: 0.8100558659217877\n",
      "The accuracy score at random state 38 for kc model is: 0.8044692737430168\n",
      "The accuracy score at random state 38 for sv model is: 0.8212290502793296\n",
      "The accuracy score at random state 38 for nb model is: 0.7932960893854749\n",
      "The accuracy score at random state 38 for dt model is: 0.7821229050279329\n",
      "The accuracy score at random state 38 for rf model is: 0.8212290502793296\n",
      "The accuracy score at random state 38 for ac model is: 0.8156424581005587\n",
      "The accuracy score at random state 38 for gc model is: 0.8268156424581006\n",
      "The accuracy score at random state 38 for sc model is: 0.7318435754189944\n",
      "The accuracy score at random state 38 for xg model is: 0.8156424581005587\n",
      "The accuracy score at random state 39 for lr model is: 0.7821229050279329\n",
      "The accuracy score at random state 39 for kc model is: 0.8044692737430168\n",
      "The accuracy score at random state 39 for sv model is: 0.8324022346368715\n",
      "The accuracy score at random state 39 for nb model is: 0.8100558659217877\n",
      "The accuracy score at random state 39 for dt model is: 0.770949720670391\n",
      "The accuracy score at random state 39 for rf model is: 0.7932960893854749\n",
      "The accuracy score at random state 39 for ac model is: 0.7932960893854749\n",
      "The accuracy score at random state 39 for gc model is: 0.8268156424581006\n",
      "The accuracy score at random state 39 for sc model is: 0.7094972067039106\n",
      "The accuracy score at random state 39 for xg model is: 0.8156424581005587\n",
      "The accuracy score at random state 40 for lr model is: 0.8156424581005587\n",
      "The accuracy score at random state 40 for kc model is: 0.8379888268156425\n",
      "The accuracy score at random state 40 for sv model is: 0.8547486033519553\n",
      "The accuracy score at random state 40 for nb model is: 0.8100558659217877\n",
      "The accuracy score at random state 40 for dt model is: 0.8212290502793296\n",
      "The accuracy score at random state 40 for rf model is: 0.8435754189944135\n",
      "The accuracy score at random state 40 for ac model is: 0.8547486033519553\n",
      "The accuracy score at random state 40 for gc model is: 0.8435754189944135\n",
      "The accuracy score at random state 40 for sc model is: 0.8268156424581006\n",
      "The accuracy score at random state 40 for xg model is: 0.8324022346368715\n",
      "The accuracy score at random state 41 for lr model is: 0.7932960893854749\n",
      "The accuracy score at random state 41 for kc model is: 0.8324022346368715\n",
      "The accuracy score at random state 41 for sv model is: 0.8379888268156425\n",
      "The accuracy score at random state 41 for nb model is: 0.8324022346368715\n",
      "The accuracy score at random state 41 for dt model is: 0.7653631284916201\n",
      "The accuracy score at random state 41 for rf model is: 0.8156424581005587\n",
      "The accuracy score at random state 41 for ac model is: 0.8435754189944135\n",
      "The accuracy score at random state 41 for gc model is: 0.8547486033519553\n",
      "The accuracy score at random state 41 for sc model is: 0.7821229050279329\n",
      "The accuracy score at random state 41 for xg model is: 0.8268156424581006\n",
      "The accuracy score at random state 42 for lr model is: 0.7932960893854749\n",
      "The accuracy score at random state 42 for kc model is: 0.7988826815642458\n",
      "The accuracy score at random state 42 for sv model is: 0.7988826815642458\n",
      "The accuracy score at random state 42 for nb model is: 0.770949720670391\n",
      "The accuracy score at random state 42 for dt model is: 0.7541899441340782\n",
      "The accuracy score at random state 42 for rf model is: 0.8100558659217877\n",
      "The accuracy score at random state 42 for ac model is: 0.8044692737430168\n",
      "The accuracy score at random state 42 for gc model is: 0.8156424581005587\n",
      "The accuracy score at random state 42 for sc model is: 0.7653631284916201\n",
      "The accuracy score at random state 42 for xg model is: 0.8100558659217877\n",
      "The accuracy score at random state 43 for lr model is: 0.7430167597765364\n",
      "The accuracy score at random state 43 for kc model is: 0.7988826815642458\n",
      "The accuracy score at random state 43 for sv model is: 0.776536312849162\n",
      "The accuracy score at random state 43 for nb model is: 0.7541899441340782\n",
      "The accuracy score at random state 43 for dt model is: 0.7486033519553073\n",
      "The accuracy score at random state 43 for rf model is: 0.8156424581005587\n",
      "The accuracy score at random state 43 for ac model is: 0.7653631284916201\n",
      "The accuracy score at random state 43 for gc model is: 0.8212290502793296\n",
      "The accuracy score at random state 43 for sc model is: 0.6983240223463687\n",
      "The accuracy score at random state 43 for xg model is: 0.7877094972067039\n",
      "The accuracy score at random state 44 for lr model is: 0.7430167597765364\n",
      "The accuracy score at random state 44 for kc model is: 0.7653631284916201\n",
      "The accuracy score at random state 44 for sv model is: 0.7653631284916201\n",
      "The accuracy score at random state 44 for nb model is: 0.7430167597765364\n",
      "The accuracy score at random state 44 for dt model is: 0.7541899441340782\n",
      "The accuracy score at random state 44 for rf model is: 0.7541899441340782\n",
      "The accuracy score at random state 44 for ac model is: 0.7374301675977654\n",
      "The accuracy score at random state 44 for gc model is: 0.7653631284916201\n",
      "The accuracy score at random state 44 for sc model is: 0.7318435754189944\n",
      "The accuracy score at random state 44 for xg model is: 0.7821229050279329\n",
      "The accuracy score at random state 45 for lr model is: 0.8379888268156425\n",
      "The accuracy score at random state 45 for kc model is: 0.8379888268156425\n",
      "The accuracy score at random state 45 for sv model is: 0.8547486033519553\n",
      "The accuracy score at random state 45 for nb model is: 0.8268156424581006\n",
      "The accuracy score at random state 45 for dt model is: 0.7653631284916201\n",
      "The accuracy score at random state 45 for rf model is: 0.8715083798882681\n",
      "The accuracy score at random state 45 for ac model is: 0.8324022346368715\n",
      "The accuracy score at random state 45 for gc model is: 0.88268156424581\n",
      "The accuracy score at random state 45 for sc model is: 0.8435754189944135\n",
      "The accuracy score at random state 45 for xg model is: 0.8770949720670391\n",
      "The accuracy score at random state 46 for lr model is: 0.8156424581005587\n",
      "The accuracy score at random state 46 for kc model is: 0.8324022346368715\n",
      "The accuracy score at random state 46 for sv model is: 0.8268156424581006\n",
      "The accuracy score at random state 46 for nb model is: 0.770949720670391\n",
      "The accuracy score at random state 46 for dt model is: 0.8044692737430168\n",
      "The accuracy score at random state 46 for rf model is: 0.8324022346368715\n",
      "The accuracy score at random state 46 for ac model is: 0.8379888268156425\n",
      "The accuracy score at random state 46 for gc model is: 0.8435754189944135\n",
      "The accuracy score at random state 46 for sc model is: 0.7821229050279329\n",
      "The accuracy score at random state 46 for xg model is: 0.8435754189944135\n",
      "The accuracy score at random state 47 for lr model is: 0.7932960893854749\n",
      "The accuracy score at random state 47 for kc model is: 0.7821229050279329\n",
      "The accuracy score at random state 47 for sv model is: 0.8268156424581006\n",
      "The accuracy score at random state 47 for nb model is: 0.7821229050279329\n",
      "The accuracy score at random state 47 for dt model is: 0.7597765363128491\n",
      "The accuracy score at random state 47 for rf model is: 0.776536312849162\n",
      "The accuracy score at random state 47 for ac model is: 0.7821229050279329\n",
      "The accuracy score at random state 47 for gc model is: 0.7988826815642458\n",
      "The accuracy score at random state 47 for sc model is: 0.7821229050279329\n",
      "The accuracy score at random state 47 for xg model is: 0.8212290502793296\n",
      "The accuracy score at random state 48 for lr model is: 0.7653631284916201\n",
      "The accuracy score at random state 48 for kc model is: 0.7653631284916201\n",
      "The accuracy score at random state 48 for sv model is: 0.7932960893854749\n",
      "The accuracy score at random state 48 for nb model is: 0.7877094972067039\n",
      "The accuracy score at random state 48 for dt model is: 0.7150837988826816\n",
      "The accuracy score at random state 48 for rf model is: 0.770949720670391\n",
      "The accuracy score at random state 48 for ac model is: 0.7932960893854749\n",
      "The accuracy score at random state 48 for gc model is: 0.776536312849162\n",
      "The accuracy score at random state 48 for sc model is: 0.7821229050279329\n",
      "The accuracy score at random state 48 for xg model is: 0.7932960893854749\n",
      "The accuracy score at random state 49 for lr model is: 0.8100558659217877\n",
      "The accuracy score at random state 49 for kc model is: 0.8491620111731844\n",
      "The accuracy score at random state 49 for sv model is: 0.8268156424581006\n",
      "The accuracy score at random state 49 for nb model is: 0.8100558659217877\n",
      "The accuracy score at random state 49 for dt model is: 0.8100558659217877\n",
      "The accuracy score at random state 49 for rf model is: 0.8603351955307262\n",
      "The accuracy score at random state 49 for ac model is: 0.8268156424581006\n",
      "The accuracy score at random state 49 for gc model is: 0.8603351955307262\n",
      "The accuracy score at random state 49 for sc model is: 0.7262569832402235\n",
      "The accuracy score at random state 49 for xg model is: 0.8603351955307262\n",
      "The accuracy score at random state 50 for lr model is: 0.7932960893854749\n",
      "The accuracy score at random state 50 for kc model is: 0.8156424581005587\n",
      "The accuracy score at random state 50 for sv model is: 0.7988826815642458\n",
      "The accuracy score at random state 50 for nb model is: 0.7877094972067039\n",
      "The accuracy score at random state 50 for dt model is: 0.7821229050279329\n",
      "The accuracy score at random state 50 for rf model is: 0.8212290502793296\n",
      "The accuracy score at random state 50 for ac model is: 0.7988826815642458\n",
      "The accuracy score at random state 50 for gc model is: 0.8156424581005587\n",
      "The accuracy score at random state 50 for sc model is: 0.7932960893854749\n",
      "The accuracy score at random state 50 for xg model is: 0.7988826815642458\n",
      "The accuracy score at random state 51 for lr model is: 0.770949720670391\n",
      "The accuracy score at random state 51 for kc model is: 0.7877094972067039\n",
      "The accuracy score at random state 51 for sv model is: 0.7821229050279329\n",
      "The accuracy score at random state 51 for nb model is: 0.7653631284916201\n",
      "The accuracy score at random state 51 for dt model is: 0.776536312849162\n",
      "The accuracy score at random state 51 for rf model is: 0.8491620111731844\n",
      "The accuracy score at random state 51 for ac model is: 0.7932960893854749\n",
      "The accuracy score at random state 51 for gc model is: 0.8212290502793296\n",
      "The accuracy score at random state 51 for sc model is: 0.7206703910614525\n",
      "The accuracy score at random state 51 for xg model is: 0.7988826815642458\n",
      "The accuracy score at random state 52 for lr model is: 0.7877094972067039\n",
      "The accuracy score at random state 52 for kc model is: 0.8212290502793296\n",
      "The accuracy score at random state 52 for sv model is: 0.8324022346368715\n",
      "The accuracy score at random state 52 for nb model is: 0.7877094972067039\n",
      "The accuracy score at random state 52 for dt model is: 0.7541899441340782\n",
      "The accuracy score at random state 52 for rf model is: 0.8268156424581006\n",
      "The accuracy score at random state 52 for ac model is: 0.8212290502793296\n",
      "The accuracy score at random state 52 for gc model is: 0.8603351955307262\n",
      "The accuracy score at random state 52 for sc model is: 0.6871508379888268\n",
      "The accuracy score at random state 52 for xg model is: 0.8379888268156425\n",
      "The accuracy score at random state 53 for lr model is: 0.770949720670391\n",
      "The accuracy score at random state 53 for kc model is: 0.7653631284916201\n",
      "The accuracy score at random state 53 for sv model is: 0.8268156424581006\n",
      "The accuracy score at random state 53 for nb model is: 0.7821229050279329\n",
      "The accuracy score at random state 53 for dt model is: 0.7653631284916201\n",
      "The accuracy score at random state 53 for rf model is: 0.8268156424581006\n",
      "The accuracy score at random state 53 for ac model is: 0.8044692737430168\n",
      "The accuracy score at random state 53 for gc model is: 0.7988826815642458\n",
      "The accuracy score at random state 53 for sc model is: 0.770949720670391\n",
      "The accuracy score at random state 53 for xg model is: 0.8491620111731844\n",
      "The accuracy score at random state 54 for lr model is: 0.7932960893854749\n",
      "The accuracy score at random state 54 for kc model is: 0.7988826815642458\n",
      "The accuracy score at random state 54 for sv model is: 0.8100558659217877\n",
      "The accuracy score at random state 54 for nb model is: 0.7597765363128491\n",
      "The accuracy score at random state 54 for dt model is: 0.7877094972067039\n",
      "The accuracy score at random state 54 for rf model is: 0.7877094972067039\n",
      "The accuracy score at random state 54 for ac model is: 0.7821229050279329\n",
      "The accuracy score at random state 54 for gc model is: 0.8324022346368715\n",
      "The accuracy score at random state 54 for sc model is: 0.7877094972067039\n",
      "The accuracy score at random state 54 for xg model is: 0.8212290502793296\n",
      "The accuracy score at random state 55 for lr model is: 0.7932960893854749\n",
      "The accuracy score at random state 55 for kc model is: 0.776536312849162\n",
      "The accuracy score at random state 55 for sv model is: 0.7988826815642458\n",
      "The accuracy score at random state 55 for nb model is: 0.770949720670391\n",
      "The accuracy score at random state 55 for dt model is: 0.7877094972067039\n",
      "The accuracy score at random state 55 for rf model is: 0.7988826815642458\n",
      "The accuracy score at random state 55 for ac model is: 0.7821229050279329\n",
      "The accuracy score at random state 55 for gc model is: 0.8268156424581006\n",
      "The accuracy score at random state 55 for sc model is: 0.7821229050279329\n",
      "The accuracy score at random state 55 for xg model is: 0.8324022346368715\n",
      "The accuracy score at random state 56 for lr model is: 0.8212290502793296\n",
      "The accuracy score at random state 56 for kc model is: 0.8100558659217877\n",
      "The accuracy score at random state 56 for sv model is: 0.8659217877094972\n",
      "The accuracy score at random state 56 for nb model is: 0.7988826815642458\n",
      "The accuracy score at random state 56 for dt model is: 0.7541899441340782\n",
      "The accuracy score at random state 56 for rf model is: 0.8100558659217877\n",
      "The accuracy score at random state 56 for ac model is: 0.8379888268156425\n",
      "The accuracy score at random state 56 for gc model is: 0.8379888268156425\n",
      "The accuracy score at random state 56 for sc model is: 0.7430167597765364\n",
      "The accuracy score at random state 56 for xg model is: 0.8268156424581006\n",
      "The accuracy score at random state 57 for lr model is: 0.8044692737430168\n",
      "The accuracy score at random state 57 for kc model is: 0.8268156424581006\n",
      "The accuracy score at random state 57 for sv model is: 0.8100558659217877\n",
      "The accuracy score at random state 57 for nb model is: 0.7821229050279329\n",
      "The accuracy score at random state 57 for dt model is: 0.7988826815642458\n",
      "The accuracy score at random state 57 for rf model is: 0.8324022346368715\n",
      "The accuracy score at random state 57 for ac model is: 0.8044692737430168\n",
      "The accuracy score at random state 57 for gc model is: 0.8268156424581006\n",
      "The accuracy score at random state 57 for sc model is: 0.776536312849162\n",
      "The accuracy score at random state 57 for xg model is: 0.8491620111731844\n",
      "The accuracy score at random state 58 for lr model is: 0.7877094972067039\n",
      "The accuracy score at random state 58 for kc model is: 0.7821229050279329\n",
      "The accuracy score at random state 58 for sv model is: 0.7988826815642458\n",
      "The accuracy score at random state 58 for nb model is: 0.7541899441340782\n",
      "The accuracy score at random state 58 for dt model is: 0.7988826815642458\n",
      "The accuracy score at random state 58 for rf model is: 0.8212290502793296\n",
      "The accuracy score at random state 58 for ac model is: 0.8100558659217877\n",
      "The accuracy score at random state 58 for gc model is: 0.8156424581005587\n",
      "The accuracy score at random state 58 for sc model is: 0.7486033519553073\n",
      "The accuracy score at random state 58 for xg model is: 0.8212290502793296\n",
      "The accuracy score at random state 59 for lr model is: 0.7206703910614525\n",
      "The accuracy score at random state 59 for kc model is: 0.7877094972067039\n",
      "The accuracy score at random state 59 for sv model is: 0.7821229050279329\n",
      "The accuracy score at random state 59 for nb model is: 0.7094972067039106\n",
      "The accuracy score at random state 59 for dt model is: 0.7206703910614525\n",
      "The accuracy score at random state 59 for rf model is: 0.7988826815642458\n",
      "The accuracy score at random state 59 for ac model is: 0.7486033519553073\n",
      "The accuracy score at random state 59 for gc model is: 0.7877094972067039\n",
      "The accuracy score at random state 59 for sc model is: 0.7318435754189944\n",
      "The accuracy score at random state 59 for xg model is: 0.8100558659217877\n",
      "The accuracy score at random state 60 for lr model is: 0.7486033519553073\n",
      "The accuracy score at random state 60 for kc model is: 0.7877094972067039\n",
      "The accuracy score at random state 60 for sv model is: 0.7877094972067039\n",
      "The accuracy score at random state 60 for nb model is: 0.7486033519553073\n",
      "The accuracy score at random state 60 for dt model is: 0.7932960893854749\n",
      "The accuracy score at random state 60 for rf model is: 0.8212290502793296\n",
      "The accuracy score at random state 60 for ac model is: 0.7821229050279329\n",
      "The accuracy score at random state 60 for gc model is: 0.8100558659217877\n",
      "The accuracy score at random state 60 for sc model is: 0.7262569832402235\n",
      "The accuracy score at random state 60 for xg model is: 0.8212290502793296\n",
      "The accuracy score at random state 61 for lr model is: 0.7877094972067039\n",
      "The accuracy score at random state 61 for kc model is: 0.7988826815642458\n",
      "The accuracy score at random state 61 for sv model is: 0.7988826815642458\n",
      "The accuracy score at random state 61 for nb model is: 0.7541899441340782\n",
      "The accuracy score at random state 61 for dt model is: 0.7541899441340782\n",
      "The accuracy score at random state 61 for rf model is: 0.8044692737430168\n",
      "The accuracy score at random state 61 for ac model is: 0.776536312849162\n",
      "The accuracy score at random state 61 for gc model is: 0.8156424581005587\n",
      "The accuracy score at random state 61 for sc model is: 0.7150837988826816\n",
      "The accuracy score at random state 61 for xg model is: 0.8156424581005587\n",
      "The accuracy score at random state 62 for lr model is: 0.7821229050279329\n",
      "The accuracy score at random state 62 for kc model is: 0.776536312849162\n",
      "The accuracy score at random state 62 for sv model is: 0.7988826815642458\n",
      "The accuracy score at random state 62 for nb model is: 0.770949720670391\n",
      "The accuracy score at random state 62 for dt model is: 0.7541899441340782\n",
      "The accuracy score at random state 62 for rf model is: 0.7988826815642458\n",
      "The accuracy score at random state 62 for ac model is: 0.8100558659217877\n",
      "The accuracy score at random state 62 for gc model is: 0.8379888268156425\n",
      "The accuracy score at random state 62 for sc model is: 0.8044692737430168\n",
      "The accuracy score at random state 62 for xg model is: 0.8212290502793296\n",
      "The accuracy score at random state 63 for lr model is: 0.8156424581005587\n",
      "The accuracy score at random state 63 for kc model is: 0.8212290502793296\n",
      "The accuracy score at random state 63 for sv model is: 0.8435754189944135\n",
      "The accuracy score at random state 63 for nb model is: 0.8212290502793296\n",
      "The accuracy score at random state 63 for dt model is: 0.8156424581005587\n",
      "The accuracy score at random state 63 for rf model is: 0.8324022346368715\n",
      "The accuracy score at random state 63 for ac model is: 0.8212290502793296\n",
      "The accuracy score at random state 63 for gc model is: 0.8491620111731844\n",
      "The accuracy score at random state 63 for sc model is: 0.7262569832402235\n",
      "The accuracy score at random state 63 for xg model is: 0.8379888268156425\n",
      "The accuracy score at random state 64 for lr model is: 0.8156424581005587\n",
      "The accuracy score at random state 64 for kc model is: 0.8156424581005587\n",
      "The accuracy score at random state 64 for sv model is: 0.8100558659217877\n",
      "The accuracy score at random state 64 for nb model is: 0.7877094972067039\n",
      "The accuracy score at random state 64 for dt model is: 0.770949720670391\n",
      "The accuracy score at random state 64 for rf model is: 0.8212290502793296\n",
      "The accuracy score at random state 64 for ac model is: 0.8435754189944135\n",
      "The accuracy score at random state 64 for gc model is: 0.8100558659217877\n",
      "The accuracy score at random state 64 for sc model is: 0.7486033519553073\n",
      "The accuracy score at random state 64 for xg model is: 0.8491620111731844\n",
      "The accuracy score at random state 65 for lr model is: 0.7932960893854749\n",
      "The accuracy score at random state 65 for kc model is: 0.8379888268156425\n",
      "The accuracy score at random state 65 for sv model is: 0.8324022346368715\n",
      "The accuracy score at random state 65 for nb model is: 0.7821229050279329\n",
      "The accuracy score at random state 65 for dt model is: 0.7932960893854749\n",
      "The accuracy score at random state 65 for rf model is: 0.8212290502793296\n",
      "The accuracy score at random state 65 for ac model is: 0.7877094972067039\n",
      "The accuracy score at random state 65 for gc model is: 0.8659217877094972\n",
      "The accuracy score at random state 65 for sc model is: 0.8156424581005587\n",
      "The accuracy score at random state 65 for xg model is: 0.8435754189944135\n",
      "The accuracy score at random state 66 for lr model is: 0.7653631284916201\n",
      "The accuracy score at random state 66 for kc model is: 0.8324022346368715\n",
      "The accuracy score at random state 66 for sv model is: 0.8212290502793296\n",
      "The accuracy score at random state 66 for nb model is: 0.776536312849162\n",
      "The accuracy score at random state 66 for dt model is: 0.8212290502793296\n",
      "The accuracy score at random state 66 for rf model is: 0.8491620111731844\n",
      "The accuracy score at random state 66 for ac model is: 0.7988826815642458\n",
      "The accuracy score at random state 66 for gc model is: 0.8435754189944135\n",
      "The accuracy score at random state 66 for sc model is: 0.7653631284916201\n",
      "The accuracy score at random state 66 for xg model is: 0.8547486033519553\n",
      "The accuracy score at random state 67 for lr model is: 0.7988826815642458\n",
      "The accuracy score at random state 67 for kc model is: 0.770949720670391\n",
      "The accuracy score at random state 67 for sv model is: 0.7988826815642458\n",
      "The accuracy score at random state 67 for nb model is: 0.7653631284916201\n",
      "The accuracy score at random state 67 for dt model is: 0.7653631284916201\n",
      "The accuracy score at random state 67 for rf model is: 0.7932960893854749\n",
      "The accuracy score at random state 67 for ac model is: 0.7597765363128491\n",
      "The accuracy score at random state 67 for gc model is: 0.7877094972067039\n",
      "The accuracy score at random state 67 for sc model is: 0.8044692737430168\n",
      "The accuracy score at random state 67 for xg model is: 0.776536312849162\n",
      "The accuracy score at random state 68 for lr model is: 0.7988826815642458\n",
      "The accuracy score at random state 68 for kc model is: 0.7988826815642458\n",
      "The accuracy score at random state 68 for sv model is: 0.8044692737430168\n",
      "The accuracy score at random state 68 for nb model is: 0.7877094972067039\n",
      "The accuracy score at random state 68 for dt model is: 0.7653631284916201\n",
      "The accuracy score at random state 68 for rf model is: 0.8379888268156425\n",
      "The accuracy score at random state 68 for ac model is: 0.8268156424581006\n",
      "The accuracy score at random state 68 for gc model is: 0.8547486033519553\n",
      "The accuracy score at random state 68 for sc model is: 0.7374301675977654\n",
      "The accuracy score at random state 68 for xg model is: 0.7988826815642458\n",
      "The accuracy score at random state 69 for lr model is: 0.7988826815642458\n",
      "The accuracy score at random state 69 for kc model is: 0.8212290502793296\n",
      "The accuracy score at random state 69 for sv model is: 0.8268156424581006\n",
      "The accuracy score at random state 69 for nb model is: 0.7932960893854749\n",
      "The accuracy score at random state 69 for dt model is: 0.7988826815642458\n",
      "The accuracy score at random state 69 for rf model is: 0.8435754189944135\n",
      "The accuracy score at random state 69 for ac model is: 0.8324022346368715\n",
      "The accuracy score at random state 69 for gc model is: 0.8435754189944135\n",
      "The accuracy score at random state 69 for sc model is: 0.776536312849162\n",
      "The accuracy score at random state 69 for xg model is: 0.8435754189944135\n",
      "The accuracy score at random state 70 for lr model is: 0.8156424581005587\n",
      "The accuracy score at random state 70 for kc model is: 0.8324022346368715\n",
      "The accuracy score at random state 70 for sv model is: 0.8268156424581006\n",
      "The accuracy score at random state 70 for nb model is: 0.7932960893854749\n",
      "The accuracy score at random state 70 for dt model is: 0.7653631284916201\n",
      "The accuracy score at random state 70 for rf model is: 0.7821229050279329\n",
      "The accuracy score at random state 70 for ac model is: 0.8100558659217877\n",
      "The accuracy score at random state 70 for gc model is: 0.8100558659217877\n",
      "The accuracy score at random state 70 for sc model is: 0.8100558659217877\n",
      "The accuracy score at random state 70 for xg model is: 0.7821229050279329\n",
      "The accuracy score at random state 71 for lr model is: 0.8212290502793296\n",
      "The accuracy score at random state 71 for kc model is: 0.8491620111731844\n",
      "The accuracy score at random state 71 for sv model is: 0.8435754189944135\n",
      "The accuracy score at random state 71 for nb model is: 0.8379888268156425\n",
      "The accuracy score at random state 71 for dt model is: 0.8044692737430168\n",
      "The accuracy score at random state 71 for rf model is: 0.8603351955307262\n",
      "The accuracy score at random state 71 for ac model is: 0.8156424581005587\n",
      "The accuracy score at random state 71 for gc model is: 0.8435754189944135\n",
      "The accuracy score at random state 71 for sc model is: 0.6759776536312849\n",
      "The accuracy score at random state 71 for xg model is: 0.8491620111731844\n",
      "The accuracy score at random state 72 for lr model is: 0.8212290502793296\n",
      "The accuracy score at random state 72 for kc model is: 0.7988826815642458\n",
      "The accuracy score at random state 72 for sv model is: 0.8100558659217877\n",
      "The accuracy score at random state 72 for nb model is: 0.7988826815642458\n",
      "The accuracy score at random state 72 for dt model is: 0.7877094972067039\n",
      "The accuracy score at random state 72 for rf model is: 0.8268156424581006\n",
      "The accuracy score at random state 72 for ac model is: 0.8212290502793296\n",
      "The accuracy score at random state 72 for gc model is: 0.8547486033519553\n",
      "The accuracy score at random state 72 for sc model is: 0.770949720670391\n",
      "The accuracy score at random state 72 for xg model is: 0.8435754189944135\n",
      "The accuracy score at random state 73 for lr model is: 0.8212290502793296\n",
      "The accuracy score at random state 73 for kc model is: 0.8324022346368715\n",
      "The accuracy score at random state 73 for sv model is: 0.8491620111731844\n",
      "The accuracy score at random state 73 for nb model is: 0.8268156424581006\n",
      "The accuracy score at random state 73 for dt model is: 0.7877094972067039\n",
      "The accuracy score at random state 73 for rf model is: 0.8435754189944135\n",
      "The accuracy score at random state 73 for ac model is: 0.8435754189944135\n",
      "The accuracy score at random state 73 for gc model is: 0.8491620111731844\n",
      "The accuracy score at random state 73 for sc model is: 0.7486033519553073\n",
      "The accuracy score at random state 73 for xg model is: 0.8547486033519553\n",
      "The accuracy score at random state 74 for lr model is: 0.8491620111731844\n",
      "The accuracy score at random state 74 for kc model is: 0.8547486033519553\n",
      "The accuracy score at random state 74 for sv model is: 0.8659217877094972\n",
      "The accuracy score at random state 74 for nb model is: 0.8156424581005587\n",
      "The accuracy score at random state 74 for dt model is: 0.8156424581005587\n",
      "The accuracy score at random state 74 for rf model is: 0.8715083798882681\n",
      "The accuracy score at random state 74 for ac model is: 0.8268156424581006\n",
      "The accuracy score at random state 74 for gc model is: 0.888268156424581\n",
      "The accuracy score at random state 74 for sc model is: 0.8100558659217877\n",
      "The accuracy score at random state 74 for xg model is: 0.888268156424581\n",
      "The accuracy score at random state 75 for lr model is: 0.7430167597765364\n",
      "The accuracy score at random state 75 for kc model is: 0.7821229050279329\n",
      "The accuracy score at random state 75 for sv model is: 0.7932960893854749\n",
      "The accuracy score at random state 75 for nb model is: 0.776536312849162\n",
      "The accuracy score at random state 75 for dt model is: 0.7821229050279329\n",
      "The accuracy score at random state 75 for rf model is: 0.8212290502793296\n",
      "The accuracy score at random state 75 for ac model is: 0.7988826815642458\n",
      "The accuracy score at random state 75 for gc model is: 0.8268156424581006\n",
      "The accuracy score at random state 75 for sc model is: 0.7094972067039106\n",
      "The accuracy score at random state 75 for xg model is: 0.8100558659217877\n",
      "The accuracy score at random state 76 for lr model is: 0.8212290502793296\n",
      "The accuracy score at random state 76 for kc model is: 0.8156424581005587\n",
      "The accuracy score at random state 76 for sv model is: 0.8435754189944135\n",
      "The accuracy score at random state 76 for nb model is: 0.8324022346368715\n",
      "The accuracy score at random state 76 for dt model is: 0.7597765363128491\n",
      "The accuracy score at random state 76 for rf model is: 0.8268156424581006\n",
      "The accuracy score at random state 76 for ac model is: 0.8268156424581006\n",
      "The accuracy score at random state 76 for gc model is: 0.8268156424581006\n",
      "The accuracy score at random state 76 for sc model is: 0.7932960893854749\n",
      "The accuracy score at random state 76 for xg model is: 0.8379888268156425\n",
      "The accuracy score at random state 77 for lr model is: 0.7597765363128491\n",
      "The accuracy score at random state 77 for kc model is: 0.8100558659217877\n",
      "The accuracy score at random state 77 for sv model is: 0.8156424581005587\n",
      "The accuracy score at random state 77 for nb model is: 0.776536312849162\n",
      "The accuracy score at random state 77 for dt model is: 0.7877094972067039\n",
      "The accuracy score at random state 77 for rf model is: 0.8156424581005587\n",
      "The accuracy score at random state 77 for ac model is: 0.7597765363128491\n",
      "The accuracy score at random state 77 for gc model is: 0.8044692737430168\n",
      "The accuracy score at random state 77 for sc model is: 0.7988826815642458\n",
      "The accuracy score at random state 77 for xg model is: 0.7932960893854749\n",
      "The accuracy score at random state 78 for lr model is: 0.8268156424581006\n",
      "The accuracy score at random state 78 for kc model is: 0.8324022346368715\n",
      "The accuracy score at random state 78 for sv model is: 0.8659217877094972\n",
      "The accuracy score at random state 78 for nb model is: 0.7932960893854749\n",
      "The accuracy score at random state 78 for dt model is: 0.7597765363128491\n",
      "The accuracy score at random state 78 for rf model is: 0.8156424581005587\n",
      "The accuracy score at random state 78 for ac model is: 0.8324022346368715\n",
      "The accuracy score at random state 78 for gc model is: 0.8379888268156425\n",
      "The accuracy score at random state 78 for sc model is: 0.7821229050279329\n",
      "The accuracy score at random state 78 for xg model is: 0.8603351955307262\n",
      "The accuracy score at random state 79 for lr model is: 0.8100558659217877\n",
      "The accuracy score at random state 79 for kc model is: 0.8156424581005587\n",
      "The accuracy score at random state 79 for sv model is: 0.8268156424581006\n",
      "The accuracy score at random state 79 for nb model is: 0.7821229050279329\n",
      "The accuracy score at random state 79 for dt model is: 0.8100558659217877\n",
      "The accuracy score at random state 79 for rf model is: 0.8212290502793296\n",
      "The accuracy score at random state 79 for ac model is: 0.8268156424581006\n",
      "The accuracy score at random state 79 for gc model is: 0.8212290502793296\n",
      "The accuracy score at random state 79 for sc model is: 0.7653631284916201\n",
      "The accuracy score at random state 79 for xg model is: 0.8435754189944135\n",
      "The accuracy score at random state 80 for lr model is: 0.7653631284916201\n",
      "The accuracy score at random state 80 for kc model is: 0.770949720670391\n",
      "The accuracy score at random state 80 for sv model is: 0.8100558659217877\n",
      "The accuracy score at random state 80 for nb model is: 0.770949720670391\n",
      "The accuracy score at random state 80 for dt model is: 0.776536312849162\n",
      "The accuracy score at random state 80 for rf model is: 0.8212290502793296\n",
      "The accuracy score at random state 80 for ac model is: 0.8100558659217877\n",
      "The accuracy score at random state 80 for gc model is: 0.8100558659217877\n",
      "The accuracy score at random state 80 for sc model is: 0.7374301675977654\n",
      "The accuracy score at random state 80 for xg model is: 0.8212290502793296\n",
      "The accuracy score at random state 81 for lr model is: 0.7318435754189944\n",
      "The accuracy score at random state 81 for kc model is: 0.7821229050279329\n",
      "The accuracy score at random state 81 for sv model is: 0.7821229050279329\n",
      "The accuracy score at random state 81 for nb model is: 0.7653631284916201\n",
      "The accuracy score at random state 81 for dt model is: 0.7318435754189944\n",
      "The accuracy score at random state 81 for rf model is: 0.7486033519553073\n",
      "The accuracy score at random state 81 for ac model is: 0.7821229050279329\n",
      "The accuracy score at random state 81 for gc model is: 0.7877094972067039\n",
      "The accuracy score at random state 81 for sc model is: 0.7039106145251397\n",
      "The accuracy score at random state 81 for xg model is: 0.7877094972067039\n",
      "The accuracy score at random state 82 for lr model is: 0.7821229050279329\n",
      "The accuracy score at random state 82 for kc model is: 0.8268156424581006\n",
      "The accuracy score at random state 82 for sv model is: 0.7877094972067039\n",
      "The accuracy score at random state 82 for nb model is: 0.776536312849162\n",
      "The accuracy score at random state 82 for dt model is: 0.776536312849162\n",
      "The accuracy score at random state 82 for rf model is: 0.8156424581005587\n",
      "The accuracy score at random state 82 for ac model is: 0.7988826815642458\n",
      "The accuracy score at random state 82 for gc model is: 0.8379888268156425\n",
      "The accuracy score at random state 82 for sc model is: 0.7597765363128491\n",
      "The accuracy score at random state 82 for xg model is: 0.8379888268156425\n",
      "The accuracy score at random state 83 for lr model is: 0.7821229050279329\n",
      "The accuracy score at random state 83 for kc model is: 0.8100558659217877\n",
      "The accuracy score at random state 83 for sv model is: 0.8379888268156425\n",
      "The accuracy score at random state 83 for nb model is: 0.8156424581005587\n",
      "The accuracy score at random state 83 for dt model is: 0.776536312849162\n",
      "The accuracy score at random state 83 for rf model is: 0.8435754189944135\n",
      "The accuracy score at random state 83 for ac model is: 0.8379888268156425\n",
      "The accuracy score at random state 83 for gc model is: 0.8435754189944135\n",
      "The accuracy score at random state 83 for sc model is: 0.7094972067039106\n",
      "The accuracy score at random state 83 for xg model is: 0.8659217877094972\n",
      "The accuracy score at random state 84 for lr model is: 0.7430167597765364\n",
      "The accuracy score at random state 84 for kc model is: 0.770949720670391\n",
      "The accuracy score at random state 84 for sv model is: 0.7821229050279329\n",
      "The accuracy score at random state 84 for nb model is: 0.7374301675977654\n",
      "The accuracy score at random state 84 for dt model is: 0.7374301675977654\n",
      "The accuracy score at random state 84 for rf model is: 0.770949720670391\n",
      "The accuracy score at random state 84 for ac model is: 0.770949720670391\n",
      "The accuracy score at random state 84 for gc model is: 0.7653631284916201\n",
      "The accuracy score at random state 84 for sc model is: 0.7541899441340782\n",
      "The accuracy score at random state 84 for xg model is: 0.776536312849162\n",
      "The accuracy score at random state 85 for lr model is: 0.7932960893854749\n",
      "The accuracy score at random state 85 for kc model is: 0.8044692737430168\n",
      "The accuracy score at random state 85 for sv model is: 0.8212290502793296\n",
      "The accuracy score at random state 85 for nb model is: 0.8100558659217877\n",
      "The accuracy score at random state 85 for dt model is: 0.7597765363128491\n",
      "The accuracy score at random state 85 for rf model is: 0.8100558659217877\n",
      "The accuracy score at random state 85 for ac model is: 0.8044692737430168\n",
      "The accuracy score at random state 85 for gc model is: 0.8100558659217877\n",
      "The accuracy score at random state 85 for sc model is: 0.7877094972067039\n",
      "The accuracy score at random state 85 for xg model is: 0.8268156424581006\n",
      "The accuracy score at random state 86 for lr model is: 0.7932960893854749\n",
      "The accuracy score at random state 86 for kc model is: 0.8156424581005587\n",
      "The accuracy score at random state 86 for sv model is: 0.8268156424581006\n",
      "The accuracy score at random state 86 for nb model is: 0.7597765363128491\n",
      "The accuracy score at random state 86 for dt model is: 0.7988826815642458\n",
      "The accuracy score at random state 86 for rf model is: 0.8379888268156425\n",
      "The accuracy score at random state 86 for ac model is: 0.8212290502793296\n",
      "The accuracy score at random state 86 for gc model is: 0.8156424581005587\n",
      "The accuracy score at random state 86 for sc model is: 0.7932960893854749\n",
      "The accuracy score at random state 86 for xg model is: 0.8324022346368715\n",
      "The accuracy score at random state 87 for lr model is: 0.8156424581005587\n",
      "The accuracy score at random state 87 for kc model is: 0.7821229050279329\n",
      "The accuracy score at random state 87 for sv model is: 0.8324022346368715\n",
      "The accuracy score at random state 87 for nb model is: 0.7821229050279329\n",
      "The accuracy score at random state 87 for dt model is: 0.7821229050279329\n",
      "The accuracy score at random state 87 for rf model is: 0.8379888268156425\n",
      "The accuracy score at random state 87 for ac model is: 0.7932960893854749\n",
      "The accuracy score at random state 87 for gc model is: 0.8268156424581006\n",
      "The accuracy score at random state 87 for sc model is: 0.8156424581005587\n",
      "The accuracy score at random state 87 for xg model is: 0.8379888268156425\n",
      "The accuracy score at random state 88 for lr model is: 0.7877094972067039\n",
      "The accuracy score at random state 88 for kc model is: 0.7988826815642458\n",
      "The accuracy score at random state 88 for sv model is: 0.8268156424581006\n",
      "The accuracy score at random state 88 for nb model is: 0.7877094972067039\n",
      "The accuracy score at random state 88 for dt model is: 0.7150837988826816\n",
      "The accuracy score at random state 88 for rf model is: 0.8100558659217877\n",
      "The accuracy score at random state 88 for ac model is: 0.7932960893854749\n",
      "The accuracy score at random state 88 for gc model is: 0.7932960893854749\n",
      "The accuracy score at random state 88 for sc model is: 0.8324022346368715\n",
      "The accuracy score at random state 88 for xg model is: 0.8212290502793296\n",
      "The accuracy score at random state 89 for lr model is: 0.8379888268156425\n",
      "The accuracy score at random state 89 for kc model is: 0.8379888268156425\n",
      "The accuracy score at random state 89 for sv model is: 0.8435754189944135\n",
      "The accuracy score at random state 89 for nb model is: 0.8100558659217877\n",
      "The accuracy score at random state 89 for dt model is: 0.8212290502793296\n",
      "The accuracy score at random state 89 for rf model is: 0.88268156424581\n",
      "The accuracy score at random state 89 for ac model is: 0.8100558659217877\n",
      "The accuracy score at random state 89 for gc model is: 0.88268156424581\n",
      "The accuracy score at random state 89 for sc model is: 0.7653631284916201\n",
      "The accuracy score at random state 89 for xg model is: 0.888268156424581\n",
      "The accuracy score at random state 90 for lr model is: 0.7821229050279329\n",
      "The accuracy score at random state 90 for kc model is: 0.8212290502793296\n",
      "The accuracy score at random state 90 for sv model is: 0.8156424581005587\n",
      "The accuracy score at random state 90 for nb model is: 0.7988826815642458\n",
      "The accuracy score at random state 90 for dt model is: 0.7486033519553073\n",
      "The accuracy score at random state 90 for rf model is: 0.8212290502793296\n",
      "The accuracy score at random state 90 for ac model is: 0.8156424581005587\n",
      "The accuracy score at random state 90 for gc model is: 0.8435754189944135\n",
      "The accuracy score at random state 90 for sc model is: 0.7988826815642458\n",
      "The accuracy score at random state 90 for xg model is: 0.8435754189944135\n",
      "The accuracy score at random state 91 for lr model is: 0.7597765363128491\n",
      "The accuracy score at random state 91 for kc model is: 0.8156424581005587\n",
      "The accuracy score at random state 91 for sv model is: 0.770949720670391\n",
      "The accuracy score at random state 91 for nb model is: 0.7486033519553073\n",
      "The accuracy score at random state 91 for dt model is: 0.770949720670391\n",
      "The accuracy score at random state 91 for rf model is: 0.8435754189944135\n",
      "The accuracy score at random state 91 for ac model is: 0.770949720670391\n",
      "The accuracy score at random state 91 for gc model is: 0.8268156424581006\n",
      "The accuracy score at random state 91 for sc model is: 0.5810055865921788\n",
      "The accuracy score at random state 91 for xg model is: 0.8212290502793296\n",
      "The accuracy score at random state 92 for lr model is: 0.770949720670391\n",
      "The accuracy score at random state 92 for kc model is: 0.7988826815642458\n",
      "The accuracy score at random state 92 for sv model is: 0.8156424581005587\n",
      "The accuracy score at random state 92 for nb model is: 0.7653631284916201\n",
      "The accuracy score at random state 92 for dt model is: 0.7988826815642458\n",
      "The accuracy score at random state 92 for rf model is: 0.8491620111731844\n",
      "The accuracy score at random state 92 for ac model is: 0.7932960893854749\n",
      "The accuracy score at random state 92 for gc model is: 0.8324022346368715\n",
      "The accuracy score at random state 92 for sc model is: 0.7597765363128491\n",
      "The accuracy score at random state 92 for xg model is: 0.8379888268156425\n",
      "The accuracy score at random state 93 for lr model is: 0.8435754189944135\n",
      "The accuracy score at random state 93 for kc model is: 0.8491620111731844\n",
      "The accuracy score at random state 93 for sv model is: 0.8435754189944135\n",
      "The accuracy score at random state 93 for nb model is: 0.8100558659217877\n",
      "The accuracy score at random state 93 for dt model is: 0.7988826815642458\n",
      "The accuracy score at random state 93 for rf model is: 0.8603351955307262\n",
      "The accuracy score at random state 93 for ac model is: 0.8435754189944135\n",
      "The accuracy score at random state 93 for gc model is: 0.8715083798882681\n",
      "The accuracy score at random state 93 for sc model is: 0.7150837988826816\n",
      "The accuracy score at random state 93 for xg model is: 0.8491620111731844\n",
      "The accuracy score at random state 94 for lr model is: 0.7988826815642458\n",
      "The accuracy score at random state 94 for kc model is: 0.8100558659217877\n",
      "The accuracy score at random state 94 for sv model is: 0.8268156424581006\n",
      "The accuracy score at random state 94 for nb model is: 0.7932960893854749\n",
      "The accuracy score at random state 94 for dt model is: 0.7821229050279329\n",
      "The accuracy score at random state 94 for rf model is: 0.8044692737430168\n",
      "The accuracy score at random state 94 for ac model is: 0.8156424581005587\n",
      "The accuracy score at random state 94 for gc model is: 0.8212290502793296\n",
      "The accuracy score at random state 94 for sc model is: 0.7932960893854749\n",
      "The accuracy score at random state 94 for xg model is: 0.8324022346368715\n",
      "The accuracy score at random state 95 for lr model is: 0.8100558659217877\n",
      "The accuracy score at random state 95 for kc model is: 0.7932960893854749\n",
      "The accuracy score at random state 95 for sv model is: 0.8379888268156425\n",
      "The accuracy score at random state 95 for nb model is: 0.776536312849162\n",
      "The accuracy score at random state 95 for dt model is: 0.8100558659217877\n",
      "The accuracy score at random state 95 for rf model is: 0.8324022346368715\n",
      "The accuracy score at random state 95 for ac model is: 0.8379888268156425\n",
      "The accuracy score at random state 95 for gc model is: 0.8547486033519553\n",
      "The accuracy score at random state 95 for sc model is: 0.770949720670391\n",
      "The accuracy score at random state 95 for xg model is: 0.8268156424581006\n",
      "The accuracy score at random state 96 for lr model is: 0.8044692737430168\n",
      "The accuracy score at random state 96 for kc model is: 0.8212290502793296\n",
      "The accuracy score at random state 96 for sv model is: 0.8212290502793296\n",
      "The accuracy score at random state 96 for nb model is: 0.7877094972067039\n",
      "The accuracy score at random state 96 for dt model is: 0.7486033519553073\n",
      "The accuracy score at random state 96 for rf model is: 0.7932960893854749\n",
      "The accuracy score at random state 96 for ac model is: 0.8044692737430168\n",
      "The accuracy score at random state 96 for gc model is: 0.8324022346368715\n",
      "The accuracy score at random state 96 for sc model is: 0.7486033519553073\n",
      "The accuracy score at random state 96 for xg model is: 0.8156424581005587\n",
      "The accuracy score at random state 97 for lr model is: 0.8044692737430168\n",
      "The accuracy score at random state 97 for kc model is: 0.8156424581005587\n",
      "The accuracy score at random state 97 for sv model is: 0.8212290502793296\n",
      "The accuracy score at random state 97 for nb model is: 0.7597765363128491\n",
      "The accuracy score at random state 97 for dt model is: 0.7653631284916201\n",
      "The accuracy score at random state 97 for rf model is: 0.8156424581005587\n",
      "The accuracy score at random state 97 for ac model is: 0.7932960893854749\n",
      "The accuracy score at random state 97 for gc model is: 0.8268156424581006\n",
      "The accuracy score at random state 97 for sc model is: 0.7150837988826816\n",
      "The accuracy score at random state 97 for xg model is: 0.8100558659217877\n",
      "The accuracy score at random state 98 for lr model is: 0.7486033519553073\n",
      "The accuracy score at random state 98 for kc model is: 0.7486033519553073\n",
      "The accuracy score at random state 98 for sv model is: 0.776536312849162\n",
      "The accuracy score at random state 98 for nb model is: 0.7430167597765364\n",
      "The accuracy score at random state 98 for dt model is: 0.7653631284916201\n",
      "The accuracy score at random state 98 for rf model is: 0.7988826815642458\n",
      "The accuracy score at random state 98 for ac model is: 0.776536312849162\n",
      "The accuracy score at random state 98 for gc model is: 0.7877094972067039\n",
      "The accuracy score at random state 98 for sc model is: 0.6983240223463687\n",
      "The accuracy score at random state 98 for xg model is: 0.7988826815642458\n",
      "The accuracy score at random state 99 for lr model is: 0.7486033519553073\n",
      "The accuracy score at random state 99 for kc model is: 0.7932960893854749\n",
      "The accuracy score at random state 99 for sv model is: 0.776536312849162\n",
      "The accuracy score at random state 99 for nb model is: 0.7541899441340782\n",
      "The accuracy score at random state 99 for dt model is: 0.7821229050279329\n",
      "The accuracy score at random state 99 for rf model is: 0.8268156424581006\n",
      "The accuracy score at random state 99 for ac model is: 0.770949720670391\n",
      "The accuracy score at random state 99 for gc model is: 0.8100558659217877\n",
      "The accuracy score at random state 99 for sc model is: 0.7597765363128491\n",
      "The accuracy score at random state 99 for xg model is: 0.7988826815642458\n",
      "Model training done\n"
     ]
    }
   ],
   "source": [
    "# Lets use many moels and check their performance\n",
    "# we will me using 10 models and inturn evaluate the performance of the best model\n",
    "for i in range(1,100):\n",
    "    x_train,x_test,y_train,y_test = train_test_split(x_scale,y,test_size=0.2,random_state=i)\n",
    "    lr = LogisticRegression()\n",
    "    kc = KNeighborsClassifier()\n",
    "    sv = SVC()\n",
    "    nb = GaussianNB()\n",
    "    dt = DecisionTreeClassifier()\n",
    "    rf = RandomForestClassifier()\n",
    "    ac = AdaBoostClassifier()\n",
    "    gc =GradientBoostingClassifier()\n",
    "    sc = SGDClassifier()\n",
    "    xg = XGBRFClassifier()\n",
    "    lr.fit(x_train,y_train)\n",
    "    kc.fit(x_train,y_train)\n",
    "    sv.fit(x_train,y_train)\n",
    "    nb.fit(x_train,y_train)\n",
    "    dt.fit(x_train,y_train)\n",
    "    rf.fit(x_train,y_train)\n",
    "    ac.fit(x_train,y_train)\n",
    "    gc.fit(x_train,y_train)\n",
    "    sc.fit(x_train,y_train)\n",
    "    xg.fit(x_train,y_train)\n",
    "    y_pred_lr = lr.predict(x_test)\n",
    "    y_pred_kc = kc.predict(x_test)\n",
    "    y_pred_sv = sv.predict(x_test)\n",
    "    y_pred_nb = nb.predict(x_test)\n",
    "    y_pred_dt = dt.predict(x_test)\n",
    "    y_pred_rf = rf.predict(x_test)\n",
    "    y_pred_ac = ac.predict(x_test)\n",
    "    y_pred_gc = gc.predict(x_test)\n",
    "    y_pred_sc = sc.predict(x_test)\n",
    "    y_pred_xg = xg.predict(x_test)\n",
    "    print(f'The accuracy score at random state {i} for lr model is:',accuracy_score(y_test,y_pred_lr))\n",
    "    print(f'The accuracy score at random state {i} for kc model is:',accuracy_score(y_test,y_pred_kc))\n",
    "    print(f'The accuracy score at random state {i} for sv model is:',accuracy_score(y_test,y_pred_sv))\n",
    "    print(f'The accuracy score at random state {i} for nb model is:',accuracy_score(y_test,y_pred_nb))\n",
    "    print(f'The accuracy score at random state {i} for dt model is:',accuracy_score(y_test,y_pred_dt))\n",
    "    print(f'The accuracy score at random state {i} for rf model is:',accuracy_score(y_test,y_pred_rf))\n",
    "    print(f'The accuracy score at random state {i} for ac model is:',accuracy_score(y_test,y_pred_ac))\n",
    "    print(f'The accuracy score at random state {i} for gc model is:',accuracy_score(y_test,y_pred_gc))\n",
    "    print(f'The accuracy score at random state {i} for sc model is:',accuracy_score(y_test,y_pred_sc))\n",
    "    print(f'The accuracy score at random state {i} for xg model is:',accuracy_score(y_test,y_pred_xg))\n",
    "print('Model training done')    \n",
    "    \n",
    "    \n",
    "    \n",
    "    \n",
    "    \n",
    "    \n",
    "    \n",
    "    \n",
    "    "
   ]
  },
  {
   "cell_type": "code",
   "execution_count": 82,
   "id": "79cdbffd",
   "metadata": {},
   "outputs": [
    {
     "name": "stdout",
     "output_type": "stream",
     "text": [
      "The accuracy score at random state 6 for lr model is: 0.8603351955307262\n",
      "The accuracy score at random state 6 for kc model is: 0.8547486033519553\n",
      "The accuracy score at random state 6 for sv model is: 0.8659217877094972\n",
      "The accuracy score at random state 6 for nb model is: 0.8324022346368715\n",
      "The accuracy score at random state 6 for dt model is: 0.7877094972067039\n",
      "The accuracy score at random state 6 for rf model is: 0.8435754189944135\n",
      "The accuracy score at random state 6 for ac model is: 0.8770949720670391\n",
      "The accuracy score at random state 6 for gc model is: 0.8715083798882681\n",
      "The accuracy score at random state 6 for sc model is: 0.6927374301675978\n",
      "The accuracy score at random state 6 for xg model is: 0.8603351955307262\n",
      "Model training done\n"
     ]
    }
   ],
   "source": [
    "# Lets use many moels and check their performance\n",
    "# we will me using 10 models and inturn evaluate the performance of the best model\n",
    "for i in range(1,100):\n",
    "    x_train,x_test,y_train,y_test = train_test_split(x_scale,y,test_size=0.2,random_state=i)\n",
    "    lr = LogisticRegression()\n",
    "    kc = KNeighborsClassifier()\n",
    "    sv = SVC()\n",
    "    nb = GaussianNB()\n",
    "    dt = DecisionTreeClassifier()\n",
    "    rf = RandomForestClassifier()\n",
    "    ac = AdaBoostClassifier()\n",
    "    gc =GradientBoostingClassifier()\n",
    "    sc = SGDClassifier()\n",
    "    xg = XGBRFClassifier()\n",
    "    lr.fit(x_train,y_train)\n",
    "    kc.fit(x_train,y_train)\n",
    "    sv.fit(x_train,y_train)\n",
    "    nb.fit(x_train,y_train)\n",
    "    dt.fit(x_train,y_train)\n",
    "    rf.fit(x_train,y_train)\n",
    "    ac.fit(x_train,y_train)\n",
    "    gc.fit(x_train,y_train)\n",
    "    sc.fit(x_train,y_train)\n",
    "    xg.fit(x_train,y_train)\n",
    "    y_pred_lr = lr.predict(x_test)\n",
    "    y_pred_kc = kc.predict(x_test)\n",
    "    y_pred_sv = sv.predict(x_test)\n",
    "    y_pred_nb = nb.predict(x_test)\n",
    "    y_pred_dt = dt.predict(x_test)\n",
    "    y_pred_rf = rf.predict(x_test)\n",
    "    y_pred_ac = ac.predict(x_test)\n",
    "    y_pred_gc = gc.predict(x_test)\n",
    "    y_pred_sc = sc.predict(x_test)\n",
    "    y_pred_xg = xg.predict(x_test)\n",
    "    if accuracy_score(y_test,y_pred_lr) > 0.85:\n",
    "        print(f'The accuracy score at random state {i} for lr model is:',accuracy_score(y_test,y_pred_lr))\n",
    "        print(f'The accuracy score at random state {i} for kc model is:',accuracy_score(y_test,y_pred_kc))\n",
    "        print(f'The accuracy score at random state {i} for sv model is:',accuracy_score(y_test,y_pred_sv))\n",
    "        print(f'The accuracy score at random state {i} for nb model is:',accuracy_score(y_test,y_pred_nb))\n",
    "        print(f'The accuracy score at random state {i} for dt model is:',accuracy_score(y_test,y_pred_dt))\n",
    "        print(f'The accuracy score at random state {i} for rf model is:',accuracy_score(y_test,y_pred_rf))\n",
    "        print(f'The accuracy score at random state {i} for ac model is:',accuracy_score(y_test,y_pred_ac))\n",
    "        print(f'The accuracy score at random state {i} for gc model is:',accuracy_score(y_test,y_pred_gc))\n",
    "        print(f'The accuracy score at random state {i} for sc model is:',accuracy_score(y_test,y_pred_sc))\n",
    "        print(f'The accuracy score at random state {i} for xg model is:',accuracy_score(y_test,y_pred_xg))\n",
    "print('Model training done')    \n",
    "    \n",
    "    \n",
    "    \n",
    "    \n",
    "    \n",
    "    \n",
    "    \n",
    "    \n",
    "    "
   ]
  },
  {
   "cell_type": "code",
   "execution_count": 87,
   "id": "7693f602",
   "metadata": {},
   "outputs": [
    {
     "data": {
      "text/html": [
       "<div>\n",
       "<style scoped>\n",
       "    .dataframe tbody tr th:only-of-type {\n",
       "        vertical-align: middle;\n",
       "    }\n",
       "\n",
       "    .dataframe tbody tr th {\n",
       "        vertical-align: top;\n",
       "    }\n",
       "\n",
       "    .dataframe thead th {\n",
       "        text-align: right;\n",
       "    }\n",
       "</style>\n",
       "<table border=\"1\" class=\"dataframe\">\n",
       "  <thead>\n",
       "    <tr style=\"text-align: right;\">\n",
       "      <th></th>\n",
       "      <th>model</th>\n",
       "      <th>accuracy</th>\n",
       "    </tr>\n",
       "  </thead>\n",
       "  <tbody>\n",
       "    <tr>\n",
       "      <th>0</th>\n",
       "      <td>LogisticRegression()</td>\n",
       "      <td>0.860</td>\n",
       "    </tr>\n",
       "    <tr>\n",
       "      <th>1</th>\n",
       "      <td>KNeighborsClassifier()</td>\n",
       "      <td>0.854</td>\n",
       "    </tr>\n",
       "    <tr>\n",
       "      <th>2</th>\n",
       "      <td>SVC()</td>\n",
       "      <td>0.865</td>\n",
       "    </tr>\n",
       "    <tr>\n",
       "      <th>3</th>\n",
       "      <td>GaussianNB()</td>\n",
       "      <td>0.832</td>\n",
       "    </tr>\n",
       "    <tr>\n",
       "      <th>4</th>\n",
       "      <td>DecisionTreeClassifier()</td>\n",
       "      <td>0.787</td>\n",
       "    </tr>\n",
       "    <tr>\n",
       "      <th>5</th>\n",
       "      <td>(DecisionTreeClassifier(max_features='sqrt', r...</td>\n",
       "      <td>0.843</td>\n",
       "    </tr>\n",
       "    <tr>\n",
       "      <th>6</th>\n",
       "      <td>(DecisionTreeClassifier(max_depth=1, random_st...</td>\n",
       "      <td>0.877</td>\n",
       "    </tr>\n",
       "    <tr>\n",
       "      <th>7</th>\n",
       "      <td>([DecisionTreeRegressor(criterion='friedman_ms...</td>\n",
       "      <td>0.871</td>\n",
       "    </tr>\n",
       "    <tr>\n",
       "      <th>8</th>\n",
       "      <td>SGDClassifier()</td>\n",
       "      <td>0.692</td>\n",
       "    </tr>\n",
       "    <tr>\n",
       "      <th>9</th>\n",
       "      <td>XGBRFClassifier(base_score=0.5, booster='gbtre...</td>\n",
       "      <td>0.860</td>\n",
       "    </tr>\n",
       "  </tbody>\n",
       "</table>\n",
       "</div>"
      ],
      "text/plain": [
       "                                               model  accuracy\n",
       "0                               LogisticRegression()     0.860\n",
       "1                             KNeighborsClassifier()     0.854\n",
       "2                                              SVC()     0.865\n",
       "3                                       GaussianNB()     0.832\n",
       "4                           DecisionTreeClassifier()     0.787\n",
       "5  (DecisionTreeClassifier(max_features='sqrt', r...     0.843\n",
       "6  (DecisionTreeClassifier(max_depth=1, random_st...     0.877\n",
       "7  ([DecisionTreeRegressor(criterion='friedman_ms...     0.871\n",
       "8                                    SGDClassifier()     0.692\n",
       "9  XGBRFClassifier(base_score=0.5, booster='gbtre...     0.860"
      ]
     },
     "execution_count": 87,
     "metadata": {},
     "output_type": "execute_result"
    }
   ],
   "source": [
    "# From the table the adaptive boosting classifier has a better accuracy\n",
    "model = pd.DataFrame({'model':[lr,kc,sv,nb,dt,rf,ac,gc,sc,xg],'accuracy':[0.860,0.854,0.865,0.832,0.787,0.843,0.877,0.871,0.692,0.860]})\n",
    "model"
   ]
  },
  {
   "cell_type": "code",
   "execution_count": 83,
   "id": "5a1aae44",
   "metadata": {},
   "outputs": [
    {
     "name": "stdout",
     "output_type": "stream",
     "text": [
      "The accuracy score for adaptive boost classifier model is: 0.8770949720670391\n",
      "The confusion matrix for adaptive boost classifier model is: [[106   7]\n",
      " [ 15  51]]\n",
      "The classification report for adaptive boost classifier model is:               precision    recall  f1-score   support\n",
      "\n",
      "           0       0.88      0.94      0.91       113\n",
      "           1       0.88      0.77      0.82        66\n",
      "\n",
      "    accuracy                           0.88       179\n",
      "   macro avg       0.88      0.86      0.86       179\n",
      "weighted avg       0.88      0.88      0.88       179\n",
      "\n"
     ]
    }
   ],
   "source": [
    "# From the training of these models we have the best model with the optimal random state of 6. \n",
    "# The best model is adaptive boosting at random state of 6\n",
    "\n",
    "x_train,x_test,y_train,y_test = train_test_split(x_scale,y,test_size=0.2,random_state=6)\n",
    "ac = AdaBoostClassifier()\n",
    "ac.fit(x_train,y_train)\n",
    "y_pred_ac = ac.predict(x_test)\n",
    "print('The accuracy score for adaptive boost classifier model is:',accuracy_score(y_test,y_pred_ac))\n",
    "print('The confusion matrix for adaptive boost classifier model is:',confusion_matrix(y_test,y_pred_ac))\n",
    "print('The classification report for adaptive boost classifier model is:',classification_report(y_test,y_pred_ac))\n",
    "\n",
    "    \n"
   ]
  },
  {
   "cell_type": "code",
   "execution_count": 96,
   "id": "14c42701",
   "metadata": {},
   "outputs": [
    {
     "data": {
      "image/png": "[encoded data removed]",
      "text/plain": [
       "<Figure size 432x288 with 1 Axes>"
      ]
     },
     "metadata": {
      "needs_background": "light"
     },
     "output_type": "display_data"
    }
   ],
   "source": [
    "#define metrics\n",
    "from sklearn import metrics\n",
    "\n",
    "y_pred_ac = ac.predict_proba(x_test)[::,1]\n",
    "fpr, tpr, _ = metrics.roc_curve(y_test,  y_pred_ac)\n",
    "\n",
    "#create ROC curve\n",
    "plt.plot(fpr,tpr)\n",
    "plt.plot([0,1], [0,1],color='darkblue',linestyle='--')\n",
    "plt.ylabel('True Positive Rate')\n",
    "plt.xlabel('False Positive Rate')\n",
    "plt.show()"
   ]
  },
  {
   "cell_type": "code",
   "execution_count": 97,
   "id": "f8713ce8",
   "metadata": {},
   "outputs": [
    {
     "data": {
      "image/png": "[encoded data removed]",
      "text/plain": [
       "<Figure size 432x288 with 1 Axes>"
      ]
     },
     "metadata": {
      "needs_background": "light"
     },
     "output_type": "display_data"
    }
   ],
   "source": [
    "# Lets calculate the auc\n",
    "#define metrics\n",
    "y_pred_ac = ac.predict_proba(x_test)[::,1]\n",
    "fpr, tpr, _ = metrics.roc_curve(y_test,  y_pred_ac)\n",
    "auc = metrics.roc_auc_score(y_test, y_pred_ac)\n",
    "\n",
    "#create ROC curve\n",
    "plt.plot(fpr,tpr,label=\"AUC=\"+str(auc))\n",
    "plt.plot([0,1], [0,1],color='darkblue',linestyle='--')\n",
    "plt.ylabel('True Positive Rate')\n",
    "plt.xlabel('False Positive Rate')\n",
    "plt.legend(loc=4)\n",
    "plt.show()\n",
    "\n",
    "# we have an auc of 0.889 which means that this model does a good job of classifying the data"
   ]
  },
  {
   "cell_type": "markdown",
   "id": "b9842ed6",
   "metadata": {},
   "source": [
    "# Lets do some hyper parameter tuning to improve the performance of the adaptive boosting model"
   ]
  },
  {
   "cell_type": "code",
   "execution_count": 88,
   "id": "57e89147",
   "metadata": {},
   "outputs": [],
   "source": [
    "from sklearn.model_selection import GridSearchCV\n",
    "from sklearn.model_selection import cross_validate\n",
    "#Creating a grid of hyperparametersgrid_params = {'n_estimators': [100,200,300]}\n",
    "#Building a 3 fold CV GridSearchCV objectgrid_object = GridSearchCV(estimator = ada_boost, param_grid = grid_params, scoring = 'accuracy', cv = 3, n_jobs = -1)\n",
    "#Fitting the grid to the training datagrid_object.fit(X_train, y_train)\n",
    "#Extracting the best parametersgrid_object.bestparams "
   ]
  },
  {
   "cell_type": "code",
   "execution_count": 92,
   "id": "8ee7a9fe",
   "metadata": {},
   "outputs": [],
   "source": [
    "search_grid={'n_estimators':[500,1000,2000],'learning_rate':[.001,0.01,.1]}\n",
    "search=GridSearchCV(estimator=ac,param_grid=search_grid,scoring='accuracy',n_jobs=1,cv=5)\n",
    "\n"
   ]
  },
  {
   "cell_type": "code",
   "execution_count": 93,
   "id": "741e3e6d",
   "metadata": {},
   "outputs": [
    {
     "data": {
      "text/plain": [
       "{'learning_rate': 0.01, 'n_estimators': 500}"
      ]
     },
     "execution_count": 93,
     "metadata": {},
     "output_type": "execute_result"
    }
   ],
   "source": [
    "search.fit(x_train,y_train)\n",
    "search.best_params_"
   ]
  },
  {
   "cell_type": "code",
   "execution_count": 94,
   "id": "9e889e02",
   "metadata": {},
   "outputs": [
    {
     "data": {
      "text/plain": [
       "0.7892544075642667"
      ]
     },
     "execution_count": 94,
     "metadata": {},
     "output_type": "execute_result"
    }
   ],
   "source": [
    "search.best_score_"
   ]
  },
  {
   "cell_type": "code",
   "execution_count": 95,
   "id": "16a2db71",
   "metadata": {},
   "outputs": [
    {
     "name": "stdout",
     "output_type": "stream",
     "text": [
      "The accuracy score for adaptive boost classifier model is: 0.8268156424581006\n",
      "The confusion matrix for adaptive boost classifier model is: [[102  11]\n",
      " [ 20  46]]\n",
      "The classification report for adaptive boost classifier model is:               precision    recall  f1-score   support\n",
      "\n",
      "           0       0.84      0.90      0.87       113\n",
      "           1       0.81      0.70      0.75        66\n",
      "\n",
      "    accuracy                           0.83       179\n",
      "   macro avg       0.82      0.80      0.81       179\n",
      "weighted avg       0.83      0.83      0.82       179\n",
      "\n"
     ]
    }
   ],
   "source": [
    "ac = AdaBoostClassifier(learning_rate=0.01,n_estimators=500)\n",
    "ac.fit(x_train,y_train)\n",
    "y_pred_ac = ac.predict(x_test)\n",
    "print('The accuracy score for adaptive boost classifier model is:',accuracy_score(y_test,y_pred_ac))\n",
    "print('The confusion matrix for adaptive boost classifier model is:',confusion_matrix(y_test,y_pred_ac))\n",
    "print('The classification report for adaptive boost classifier model is:',classification_report(y_test,y_pred_ac))\n",
    "\n"
   ]
  },
  {
   "cell_type": "code",
   "execution_count": null,
   "id": "c442f6a4",
   "metadata": {},
   "outputs": [],
   "source": [
    "# Hyper parameter tuning didnt improve the performance of the model"
   ]
  },
  {
   "cell_type": "markdown",
   "id": "47a53a79",
   "metadata": {},
   "source": [
    "# Model saving"
   ]
  },
  {
   "cell_type": "code",
   "execution_count": null,
   "id": "c9108ada",
   "metadata": {},
   "outputs": [],
   "source": [
    "# lets save this model"
   ]
  },
  {
   "cell_type": "code",
   "execution_count": 98,
   "id": "9bed1425",
   "metadata": {},
   "outputs": [],
   "source": [
    "import pickle\n",
    "filename = 'titanic.pkl'\n",
    "pickle.dump(ac,open(filename,'wb'))"
   ]
  },
  {
   "cell_type": "code",
   "execution_count": null,
   "id": "89d97e3a",
   "metadata": {},
   "outputs": [],
   "source": []
  },
  {
   "cell_type": "code",
   "execution_count": null,
   "id": "03990cd1",
   "metadata": {},
   "outputs": [],
   "source": []
  },
  {
   "cell_type": "code",
   "execution_count": null,
   "id": "d1deded3",
   "metadata": {},
   "outputs": [],
   "source": []
  }
 ],
 "metadata": {
  "kernelspec": {
   "display_name": "Python 3 (ipykernel)",
   "language": "python",
   "name": "python3"
  },
  "language_info": {
   "codemirror_mode": {
    "name": "ipython",
    "version": 3
   },
   "file_extension": ".py",
   "mimetype": "text/x-python",
   "name": "python",
   "nbconvert_exporter": "python",
   "pygments_lexer": "ipython3",
   "version": "3.9.7"
  }
 },
 "nbformat": 4,
 "nbformat_minor": 5
}
